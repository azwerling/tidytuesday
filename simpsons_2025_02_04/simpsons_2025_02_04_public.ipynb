{
 "cells": [
  {
   "cell_type": "code",
   "execution_count": 71,
   "id": "2b98f1ed-a3b0-4fef-8cd1-93b1f9f9d097",
   "metadata": {},
   "outputs": [],
   "source": [
    "import requests\n",
    "import zipfile\n",
    "import os\n",
    "import tempfile\n",
    "import pandas as pd\n",
    "import numpy as np\n",
    "import matplotlib.pyplot as plt\n",
    "import seaborn as sns\n",
    "import plotly\n",
    "from plotly import express as px\n",
    "from plotly.subplots import make_subplots\n",
    "import plotly.graph_objects as go\n",
    "import statsmodels.api as sm\n",
    "import seaborn as sns\n",
    "from matplotlib import rcParams\n",
    "from matplotlib import font_manager\n",
    "simpsonfont = \"simpsonfont/Simpsonfont DEMO.ttf\""
   ]
  },
  {
   "cell_type": "code",
   "execution_count": 2,
   "id": "7ab7cb6d-7066-4914-ac2d-72435c26251d",
   "metadata": {},
   "outputs": [
    {
     "name": "stdout",
     "output_type": "stream",
     "text": [
      "<class 'pandas.core.frame.DataFrame'>\n",
      "RangeIndex: 6722 entries, 0 to 6721\n",
      "Data columns (total 4 columns):\n",
      " #   Column           Non-Null Count  Dtype \n",
      "---  ------           --------------  ----- \n",
      " 0   id               6722 non-null   int64 \n",
      " 1   name             6722 non-null   object\n",
      " 2   normalized_name  6722 non-null   object\n",
      " 3   gender           323 non-null    object\n",
      "dtypes: int64(1), object(3)\n",
      "memory usage: 210.2+ KB\n",
      "None\n",
      "<class 'pandas.core.frame.DataFrame'>\n",
      "RangeIndex: 151 entries, 0 to 150\n",
      "Data columns (total 14 columns):\n",
      " #   Column                  Non-Null Count  Dtype  \n",
      "---  ------                  --------------  -----  \n",
      " 0   id                      151 non-null    int64  \n",
      " 1   image_url               148 non-null    object \n",
      " 2   imdb_rating             148 non-null    float64\n",
      " 3   imdb_votes              148 non-null    float64\n",
      " 4   number_in_season        151 non-null    int64  \n",
      " 5   number_in_series        151 non-null    int64  \n",
      " 6   original_air_date       151 non-null    object \n",
      " 7   original_air_year       151 non-null    int64  \n",
      " 8   production_code         151 non-null    object \n",
      " 9   season                  151 non-null    int64  \n",
      " 10  title                   151 non-null    object \n",
      " 11  us_viewers_in_millions  148 non-null    float64\n",
      " 12  video_url               148 non-null    object \n",
      " 13  views                   148 non-null    float64\n",
      "dtypes: float64(4), int64(5), object(5)\n",
      "memory usage: 16.6+ KB\n",
      "None\n",
      "<class 'pandas.core.frame.DataFrame'>\n",
      "RangeIndex: 4459 entries, 0 to 4458\n",
      "Data columns (total 3 columns):\n",
      " #   Column           Non-Null Count  Dtype \n",
      "---  ------           --------------  ----- \n",
      " 0   id               4459 non-null   int64 \n",
      " 1   name             4459 non-null   object\n",
      " 2   normalized_name  4459 non-null   object\n",
      "dtypes: int64(1), object(2)\n",
      "memory usage: 104.6+ KB\n",
      "None\n",
      "<class 'pandas.core.frame.DataFrame'>\n",
      "RangeIndex: 31793 entries, 0 to 31792\n",
      "Data columns (total 13 columns):\n",
      " #   Column              Non-Null Count  Dtype  \n",
      "---  ------              --------------  -----  \n",
      " 0   id                  31793 non-null  int64  \n",
      " 1   episode_id          31793 non-null  int64  \n",
      " 2   number              31793 non-null  int64  \n",
      " 3   raw_text            31793 non-null  object \n",
      " 4   timestamp_in_ms     31792 non-null  float64\n",
      " 5   speaking_line       31792 non-null  object \n",
      " 6   character_id        28279 non-null  float64\n",
      " 7   location_id         31698 non-null  float64\n",
      " 8   raw_character_text  28279 non-null  object \n",
      " 9   raw_location_text   31697 non-null  object \n",
      " 10  spoken_words        26169 non-null  object \n",
      " 11  normalized_text     26153 non-null  object \n",
      " 12  word_count          26167 non-null  float64\n",
      "dtypes: float64(4), int64(3), object(6)\n",
      "memory usage: 3.2+ MB\n",
      "None\n",
      "Filtered episodes: (151, 14)\n",
      "Filtered script lines: (31793, 13)\n"
     ]
    }
   ],
   "source": [
    "# Define URLs\n",
    "urls = {\n",
    "    \"characters\": \"https://raw.githubusercontent.com/rfordatascience/tidytuesday/main/data/2025/2025-02-04/simpsons_characters.csv\",\n",
    "    \"episodes\": \"https://raw.githubusercontent.com/rfordatascience/tidytuesday/main/data/2025/2025-02-04/simpsons_episodes.csv\",\n",
    "    \"locations\": \"https://raw.githubusercontent.com/rfordatascience/tidytuesday/main/data/2025/2025-02-04/simpsons_locations.csv\",\n",
    "    \"script_lines\": \"https://raw.githubusercontent.com/rfordatascience/tidytuesday/main/data/2025/2025-02-04/simpsons_script_lines.csv\",\n",
    "}\n",
    "\n",
    "# Load CSVs into pandas DataFrames\n",
    "simpsons_characters = pd.read_csv(urls[\"characters\"])\n",
    "simpsons_episodes = pd.read_csv(urls[\"episodes\"])\n",
    "simpsons_locations = pd.read_csv(urls[\"locations\"])\n",
    "simpsons_script_lines = pd.read_csv(urls[\"script_lines\"])\n",
    "\n",
    "# Check structure (equivalent to `glimpse()` in R)\n",
    "print(simpsons_characters.info())\n",
    "print(simpsons_episodes.info())\n",
    "print(simpsons_locations.info())\n",
    "print(simpsons_script_lines.info())\n",
    "\n",
    "# _____________________________________________________________________________\n",
    "# Filtering Data: Keep only episodes from 2010 onwards\n",
    "# _____________________________________________________________________________\n",
    "\n",
    "# Convert air year to integer if needed\n",
    "simpsons_episodes[\"original_air_year\"] = pd.to_numeric(simpsons_episodes[\"original_air_year\"], errors=\"coerce\")\n",
    "\n",
    "# Filter episodes to include only 2010+\n",
    "simpsons_episodes = simpsons_episodes[simpsons_episodes[\"original_air_year\"] >= 2010]\n",
    "\n",
    "# Filter script lines to only include lines for these episodes\n",
    "simpsons_script_lines = simpsons_script_lines[\n",
    "    simpsons_script_lines[\"episode_id\"].isin(simpsons_episodes[\"id\"])\n",
    "]\n",
    "\n",
    "# Output final dataset shapes\n",
    "print(f\"Filtered episodes: {simpsons_episodes.shape}\")\n",
    "print(f\"Filtered script lines: {simpsons_script_lines.shape}\")\n"
   ]
  },
  {
   "cell_type": "code",
   "execution_count": 4,
   "id": "397509b1-314b-4383-b889-e6ecfec04ec1",
   "metadata": {},
   "outputs": [
    {
     "data": {
      "text/plain": [
       "id                        0\n",
       "image_url                 3\n",
       "imdb_rating               3\n",
       "imdb_votes                3\n",
       "number_in_season          0\n",
       "number_in_series          0\n",
       "original_air_date         0\n",
       "original_air_year         0\n",
       "production_code           0\n",
       "season                    0\n",
       "title                     0\n",
       "us_viewers_in_millions    3\n",
       "video_url                 3\n",
       "views                     3\n",
       "dtype: int64"
      ]
     },
     "execution_count": 4,
     "metadata": {},
     "output_type": "execute_result"
    }
   ],
   "source": [
    "simpsons_episodes.isna().sum()"
   ]
  },
  {
   "cell_type": "code",
   "execution_count": 7,
   "id": "d0d0704c-8579-41d1-bdbc-3d29fe1e1906",
   "metadata": {},
   "outputs": [
    {
     "data": {
      "text/html": [
       "<div>\n",
       "<style scoped>\n",
       "    .dataframe tbody tr th:only-of-type {\n",
       "        vertical-align: middle;\n",
       "    }\n",
       "\n",
       "    .dataframe tbody tr th {\n",
       "        vertical-align: top;\n",
       "    }\n",
       "\n",
       "    .dataframe thead th {\n",
       "        text-align: right;\n",
       "    }\n",
       "</style>\n",
       "<table border=\"1\" class=\"dataframe\">\n",
       "  <thead>\n",
       "    <tr style=\"text-align: right;\">\n",
       "      <th></th>\n",
       "      <th>id</th>\n",
       "      <th>image_url</th>\n",
       "      <th>imdb_rating</th>\n",
       "      <th>imdb_votes</th>\n",
       "      <th>number_in_season</th>\n",
       "      <th>number_in_series</th>\n",
       "      <th>original_air_date</th>\n",
       "      <th>original_air_year</th>\n",
       "      <th>production_code</th>\n",
       "      <th>season</th>\n",
       "      <th>title</th>\n",
       "      <th>us_viewers_in_millions</th>\n",
       "      <th>video_url</th>\n",
       "      <th>views</th>\n",
       "    </tr>\n",
       "  </thead>\n",
       "  <tbody>\n",
       "    <tr>\n",
       "      <th>52</th>\n",
       "      <td>598</td>\n",
       "      <td>NaN</td>\n",
       "      <td>NaN</td>\n",
       "      <td>NaN</td>\n",
       "      <td>2</td>\n",
       "      <td>598</td>\n",
       "      <td>2016-10-02</td>\n",
       "      <td>2016</td>\n",
       "      <td>VABF18</td>\n",
       "      <td>28</td>\n",
       "      <td>Friends and Family\"[203]</td>\n",
       "      <td>NaN</td>\n",
       "      <td>NaN</td>\n",
       "      <td>NaN</td>\n",
       "    </tr>\n",
       "    <tr>\n",
       "      <th>53</th>\n",
       "      <td>599</td>\n",
       "      <td>NaN</td>\n",
       "      <td>NaN</td>\n",
       "      <td>NaN</td>\n",
       "      <td>3</td>\n",
       "      <td>599</td>\n",
       "      <td>2016-10-09</td>\n",
       "      <td>2016</td>\n",
       "      <td>VABF17</td>\n",
       "      <td>28</td>\n",
       "      <td>The Town\"[205]</td>\n",
       "      <td>NaN</td>\n",
       "      <td>NaN</td>\n",
       "      <td>NaN</td>\n",
       "    </tr>\n",
       "    <tr>\n",
       "      <th>54</th>\n",
       "      <td>600</td>\n",
       "      <td>NaN</td>\n",
       "      <td>NaN</td>\n",
       "      <td>NaN</td>\n",
       "      <td>4</td>\n",
       "      <td>600</td>\n",
       "      <td>2016-10-16</td>\n",
       "      <td>2016</td>\n",
       "      <td>VABF16</td>\n",
       "      <td>28</td>\n",
       "      <td>Treehouse of Horror XXVII\"[207]</td>\n",
       "      <td>NaN</td>\n",
       "      <td>NaN</td>\n",
       "      <td>NaN</td>\n",
       "    </tr>\n",
       "  </tbody>\n",
       "</table>\n",
       "</div>"
      ],
      "text/plain": [
       "     id image_url  imdb_rating  imdb_votes  number_in_season  \\\n",
       "52  598       NaN          NaN         NaN                 2   \n",
       "53  599       NaN          NaN         NaN                 3   \n",
       "54  600       NaN          NaN         NaN                 4   \n",
       "\n",
       "    number_in_series original_air_date  original_air_year production_code  \\\n",
       "52               598        2016-10-02               2016          VABF18   \n",
       "53               599        2016-10-09               2016          VABF17   \n",
       "54               600        2016-10-16               2016          VABF16   \n",
       "\n",
       "    season                            title  us_viewers_in_millions video_url  \\\n",
       "52      28         Friends and Family\"[203]                     NaN       NaN   \n",
       "53      28                   The Town\"[205]                     NaN       NaN   \n",
       "54      28  Treehouse of Horror XXVII\"[207]                     NaN       NaN   \n",
       "\n",
       "    views  \n",
       "52    NaN  \n",
       "53    NaN  \n",
       "54    NaN  "
      ]
     },
     "execution_count": 7,
     "metadata": {},
     "output_type": "execute_result"
    }
   ],
   "source": [
    "simpsons_episodes[simpsons_episodes['us_viewers_in_millions'].isna()]"
   ]
  },
  {
   "cell_type": "code",
   "execution_count": 8,
   "id": "9b95747b-be2a-4816-aa5d-ba4770588d1e",
   "metadata": {},
   "outputs": [],
   "source": [
    "simpsons_episodes_filtered = simpsons_episodes.copy(deep=True)"
   ]
  },
  {
   "cell_type": "code",
   "execution_count": 9,
   "id": "988e7c3c-087d-4dd9-92a1-3c614b1ab537",
   "metadata": {},
   "outputs": [],
   "source": [
    "simpsons_episodes_filtered = simpsons_episodes.dropna(subset = ['us_viewers_in_millions'])"
   ]
  },
  {
   "cell_type": "code",
   "execution_count": 10,
   "id": "13867e4d-49e9-41b0-8d92-bd070bd36b4d",
   "metadata": {},
   "outputs": [
    {
     "data": {
      "text/html": [
       "<div>\n",
       "<style scoped>\n",
       "    .dataframe tbody tr th:only-of-type {\n",
       "        vertical-align: middle;\n",
       "    }\n",
       "\n",
       "    .dataframe tbody tr th {\n",
       "        vertical-align: top;\n",
       "    }\n",
       "\n",
       "    .dataframe thead th {\n",
       "        text-align: right;\n",
       "    }\n",
       "</style>\n",
       "<table border=\"1\" class=\"dataframe\">\n",
       "  <thead>\n",
       "    <tr style=\"text-align: right;\">\n",
       "      <th></th>\n",
       "      <th>id</th>\n",
       "      <th>image_url</th>\n",
       "      <th>imdb_rating</th>\n",
       "      <th>imdb_votes</th>\n",
       "      <th>number_in_season</th>\n",
       "      <th>number_in_series</th>\n",
       "      <th>original_air_date</th>\n",
       "      <th>original_air_year</th>\n",
       "      <th>production_code</th>\n",
       "      <th>season</th>\n",
       "      <th>title</th>\n",
       "      <th>us_viewers_in_millions</th>\n",
       "      <th>video_url</th>\n",
       "      <th>views</th>\n",
       "    </tr>\n",
       "  </thead>\n",
       "  <tbody>\n",
       "    <tr>\n",
       "      <th>0</th>\n",
       "      <td>450</td>\n",
       "      <td>http://static-media.fxx.com/img/FX_Networks_-_...</td>\n",
       "      <td>6.8</td>\n",
       "      <td>481.0</td>\n",
       "      <td>9</td>\n",
       "      <td>450</td>\n",
       "      <td>2010-01-03</td>\n",
       "      <td>2010</td>\n",
       "      <td>MABF02</td>\n",
       "      <td>21</td>\n",
       "      <td>Thursdays with Abie</td>\n",
       "      <td>8.65</td>\n",
       "      <td>http://www.simpsonsworld.com/video/250369603964</td>\n",
       "      <td>36227.0</td>\n",
       "    </tr>\n",
       "    <tr>\n",
       "      <th>1</th>\n",
       "      <td>452</td>\n",
       "      <td>http://static-media.fxx.com/img/FX_Networks_-_...</td>\n",
       "      <td>7.1</td>\n",
       "      <td>532.0</td>\n",
       "      <td>11</td>\n",
       "      <td>452</td>\n",
       "      <td>2010-01-31</td>\n",
       "      <td>2010</td>\n",
       "      <td>MABF03</td>\n",
       "      <td>21</td>\n",
       "      <td>Million Dollar Maybe</td>\n",
       "      <td>5.11</td>\n",
       "      <td>http://www.simpsonsworld.com/video/279804995696</td>\n",
       "      <td>40854.0</td>\n",
       "    </tr>\n",
       "    <tr>\n",
       "      <th>2</th>\n",
       "      <td>455</td>\n",
       "      <td>http://static-media.fxx.com/img/FX_Networks_-_...</td>\n",
       "      <td>7.1</td>\n",
       "      <td>480.0</td>\n",
       "      <td>14</td>\n",
       "      <td>455</td>\n",
       "      <td>2010-03-14</td>\n",
       "      <td>2010</td>\n",
       "      <td>MABF04</td>\n",
       "      <td>21</td>\n",
       "      <td>Postcards from the Wedge</td>\n",
       "      <td>5.23</td>\n",
       "      <td>http://www.simpsonsworld.com/video/250390595937</td>\n",
       "      <td>41357.0</td>\n",
       "    </tr>\n",
       "    <tr>\n",
       "      <th>3</th>\n",
       "      <td>457</td>\n",
       "      <td>http://static-media.fxx.com/img/FX_Networks_-_...</td>\n",
       "      <td>5.7</td>\n",
       "      <td>675.0</td>\n",
       "      <td>16</td>\n",
       "      <td>457</td>\n",
       "      <td>2010-03-28</td>\n",
       "      <td>2010</td>\n",
       "      <td>MABF10</td>\n",
       "      <td>21</td>\n",
       "      <td>The Greatest Story Ever D'ohed</td>\n",
       "      <td>5.69</td>\n",
       "      <td>http://www.simpsonsworld.com/video/279809091713</td>\n",
       "      <td>44070.0</td>\n",
       "    </tr>\n",
       "    <tr>\n",
       "      <th>4</th>\n",
       "      <td>462</td>\n",
       "      <td>http://static-media.fxx.com/img/FX_Networks_-_...</td>\n",
       "      <td>6.9</td>\n",
       "      <td>491.0</td>\n",
       "      <td>21</td>\n",
       "      <td>462</td>\n",
       "      <td>2010-05-09</td>\n",
       "      <td>2010</td>\n",
       "      <td>MABF13</td>\n",
       "      <td>21</td>\n",
       "      <td>Moe Letter Blues</td>\n",
       "      <td>5.66</td>\n",
       "      <td>http://www.simpsonsworld.com/video/250592323527</td>\n",
       "      <td>40904.0</td>\n",
       "    </tr>\n",
       "    <tr>\n",
       "      <th>...</th>\n",
       "      <td>...</td>\n",
       "      <td>...</td>\n",
       "      <td>...</td>\n",
       "      <td>...</td>\n",
       "      <td>...</td>\n",
       "      <td>...</td>\n",
       "      <td>...</td>\n",
       "      <td>...</td>\n",
       "      <td>...</td>\n",
       "      <td>...</td>\n",
       "      <td>...</td>\n",
       "      <td>...</td>\n",
       "      <td>...</td>\n",
       "      <td>...</td>\n",
       "    </tr>\n",
       "    <tr>\n",
       "      <th>146</th>\n",
       "      <td>500</td>\n",
       "      <td>http://static-media.fxx.com/img/FX_Networks_-_...</td>\n",
       "      <td>7.0</td>\n",
       "      <td>580.0</td>\n",
       "      <td>14</td>\n",
       "      <td>500</td>\n",
       "      <td>2012-02-19</td>\n",
       "      <td>2012</td>\n",
       "      <td>PABF07</td>\n",
       "      <td>23</td>\n",
       "      <td>At Long Last Leave</td>\n",
       "      <td>5.77</td>\n",
       "      <td>http://www.simpsonsworld.com/video/230541891832</td>\n",
       "      <td>45226.0</td>\n",
       "    </tr>\n",
       "    <tr>\n",
       "      <th>147</th>\n",
       "      <td>502</td>\n",
       "      <td>http://static-media.fxx.com/img/FX_Networks_-_...</td>\n",
       "      <td>7.3</td>\n",
       "      <td>541.0</td>\n",
       "      <td>16</td>\n",
       "      <td>502</td>\n",
       "      <td>2012-03-11</td>\n",
       "      <td>2012</td>\n",
       "      <td>PABF08</td>\n",
       "      <td>23</td>\n",
       "      <td>How I Wet Your Mother</td>\n",
       "      <td>4.97</td>\n",
       "      <td>http://www.simpsonsworld.com/video/230597187582</td>\n",
       "      <td>44818.0</td>\n",
       "    </tr>\n",
       "    <tr>\n",
       "      <th>148</th>\n",
       "      <td>511</td>\n",
       "      <td>http://static-media.fxx.com/img/FX_Networks_-_...</td>\n",
       "      <td>6.9</td>\n",
       "      <td>460.0</td>\n",
       "      <td>3</td>\n",
       "      <td>511</td>\n",
       "      <td>2012-11-04</td>\n",
       "      <td>2012</td>\n",
       "      <td>PABF18</td>\n",
       "      <td>24</td>\n",
       "      <td>Adventures in Baby-Getting</td>\n",
       "      <td>5.65</td>\n",
       "      <td>http://www.simpsonsworld.com/video/221688899646</td>\n",
       "      <td>39687.0</td>\n",
       "    </tr>\n",
       "    <tr>\n",
       "      <th>149</th>\n",
       "      <td>542</td>\n",
       "      <td>http://static-media.fxx.com/img/FX_Networks_-_...</td>\n",
       "      <td>6.4</td>\n",
       "      <td>473.0</td>\n",
       "      <td>12</td>\n",
       "      <td>542</td>\n",
       "      <td>2014-03-09</td>\n",
       "      <td>2014</td>\n",
       "      <td>SABF08</td>\n",
       "      <td>25</td>\n",
       "      <td>Diggs</td>\n",
       "      <td>2.69</td>\n",
       "      <td>http://www.simpsonsworld.com/video/310529091639</td>\n",
       "      <td>39292.0</td>\n",
       "    </tr>\n",
       "    <tr>\n",
       "      <th>150</th>\n",
       "      <td>548</td>\n",
       "      <td>http://static-media.fxx.com/img/FX_Networks_-_...</td>\n",
       "      <td>7.0</td>\n",
       "      <td>504.0</td>\n",
       "      <td>18</td>\n",
       "      <td>548</td>\n",
       "      <td>2014-04-13</td>\n",
       "      <td>2014</td>\n",
       "      <td>SABF13</td>\n",
       "      <td>25</td>\n",
       "      <td>Days of Future Future</td>\n",
       "      <td>3.64</td>\n",
       "      <td>http://www.simpsonsworld.com/video/310257731892</td>\n",
       "      <td>55742.0</td>\n",
       "    </tr>\n",
       "  </tbody>\n",
       "</table>\n",
       "<p>148 rows × 14 columns</p>\n",
       "</div>"
      ],
      "text/plain": [
       "      id                                          image_url  imdb_rating  \\\n",
       "0    450  http://static-media.fxx.com/img/FX_Networks_-_...          6.8   \n",
       "1    452  http://static-media.fxx.com/img/FX_Networks_-_...          7.1   \n",
       "2    455  http://static-media.fxx.com/img/FX_Networks_-_...          7.1   \n",
       "3    457  http://static-media.fxx.com/img/FX_Networks_-_...          5.7   \n",
       "4    462  http://static-media.fxx.com/img/FX_Networks_-_...          6.9   \n",
       "..   ...                                                ...          ...   \n",
       "146  500  http://static-media.fxx.com/img/FX_Networks_-_...          7.0   \n",
       "147  502  http://static-media.fxx.com/img/FX_Networks_-_...          7.3   \n",
       "148  511  http://static-media.fxx.com/img/FX_Networks_-_...          6.9   \n",
       "149  542  http://static-media.fxx.com/img/FX_Networks_-_...          6.4   \n",
       "150  548  http://static-media.fxx.com/img/FX_Networks_-_...          7.0   \n",
       "\n",
       "     imdb_votes  number_in_season  number_in_series original_air_date  \\\n",
       "0         481.0                 9               450        2010-01-03   \n",
       "1         532.0                11               452        2010-01-31   \n",
       "2         480.0                14               455        2010-03-14   \n",
       "3         675.0                16               457        2010-03-28   \n",
       "4         491.0                21               462        2010-05-09   \n",
       "..          ...               ...               ...               ...   \n",
       "146       580.0                14               500        2012-02-19   \n",
       "147       541.0                16               502        2012-03-11   \n",
       "148       460.0                 3               511        2012-11-04   \n",
       "149       473.0                12               542        2014-03-09   \n",
       "150       504.0                18               548        2014-04-13   \n",
       "\n",
       "     original_air_year production_code  season  \\\n",
       "0                 2010          MABF02      21   \n",
       "1                 2010          MABF03      21   \n",
       "2                 2010          MABF04      21   \n",
       "3                 2010          MABF10      21   \n",
       "4                 2010          MABF13      21   \n",
       "..                 ...             ...     ...   \n",
       "146               2012          PABF07      23   \n",
       "147               2012          PABF08      23   \n",
       "148               2012          PABF18      24   \n",
       "149               2014          SABF08      25   \n",
       "150               2014          SABF13      25   \n",
       "\n",
       "                              title  us_viewers_in_millions  \\\n",
       "0               Thursdays with Abie                    8.65   \n",
       "1              Million Dollar Maybe                    5.11   \n",
       "2          Postcards from the Wedge                    5.23   \n",
       "3    The Greatest Story Ever D'ohed                    5.69   \n",
       "4                  Moe Letter Blues                    5.66   \n",
       "..                              ...                     ...   \n",
       "146              At Long Last Leave                    5.77   \n",
       "147           How I Wet Your Mother                    4.97   \n",
       "148      Adventures in Baby-Getting                    5.65   \n",
       "149                           Diggs                    2.69   \n",
       "150           Days of Future Future                    3.64   \n",
       "\n",
       "                                           video_url    views  \n",
       "0    http://www.simpsonsworld.com/video/250369603964  36227.0  \n",
       "1    http://www.simpsonsworld.com/video/279804995696  40854.0  \n",
       "2    http://www.simpsonsworld.com/video/250390595937  41357.0  \n",
       "3    http://www.simpsonsworld.com/video/279809091713  44070.0  \n",
       "4    http://www.simpsonsworld.com/video/250592323527  40904.0  \n",
       "..                                               ...      ...  \n",
       "146  http://www.simpsonsworld.com/video/230541891832  45226.0  \n",
       "147  http://www.simpsonsworld.com/video/230597187582  44818.0  \n",
       "148  http://www.simpsonsworld.com/video/221688899646  39687.0  \n",
       "149  http://www.simpsonsworld.com/video/310529091639  39292.0  \n",
       "150  http://www.simpsonsworld.com/video/310257731892  55742.0  \n",
       "\n",
       "[148 rows x 14 columns]"
      ]
     },
     "execution_count": 10,
     "metadata": {},
     "output_type": "execute_result"
    }
   ],
   "source": [
    "simpsons_episodes_filtered"
   ]
  },
  {
   "cell_type": "code",
   "execution_count": 11,
   "id": "f40328c2-7f4c-47f9-9eef-5b20cb6e27cd",
   "metadata": {},
   "outputs": [
    {
     "data": {
      "text/html": [
       "<div>\n",
       "<style scoped>\n",
       "    .dataframe tbody tr th:only-of-type {\n",
       "        vertical-align: middle;\n",
       "    }\n",
       "\n",
       "    .dataframe tbody tr th {\n",
       "        vertical-align: top;\n",
       "    }\n",
       "\n",
       "    .dataframe thead th {\n",
       "        text-align: right;\n",
       "    }\n",
       "</style>\n",
       "<table border=\"1\" class=\"dataframe\">\n",
       "  <thead>\n",
       "    <tr style=\"text-align: right;\">\n",
       "      <th></th>\n",
       "      <th>id</th>\n",
       "      <th>image_url</th>\n",
       "      <th>imdb_rating</th>\n",
       "      <th>imdb_votes</th>\n",
       "      <th>number_in_season</th>\n",
       "      <th>number_in_series</th>\n",
       "      <th>original_air_date</th>\n",
       "      <th>original_air_year</th>\n",
       "      <th>production_code</th>\n",
       "      <th>season</th>\n",
       "      <th>title</th>\n",
       "      <th>us_viewers_in_millions</th>\n",
       "      <th>video_url</th>\n",
       "      <th>views</th>\n",
       "    </tr>\n",
       "  </thead>\n",
       "  <tbody>\n",
       "  </tbody>\n",
       "</table>\n",
       "</div>"
      ],
      "text/plain": [
       "Empty DataFrame\n",
       "Columns: [id, image_url, imdb_rating, imdb_votes, number_in_season, number_in_series, original_air_date, original_air_year, production_code, season, title, us_viewers_in_millions, video_url, views]\n",
       "Index: []"
      ]
     },
     "execution_count": 11,
     "metadata": {},
     "output_type": "execute_result"
    }
   ],
   "source": [
    "simpsons_episodes_filtered[simpsons_episodes_filtered['us_viewers_in_millions'].isna()]"
   ]
  },
  {
   "cell_type": "code",
   "execution_count": null,
   "id": "ac3ead0b-225a-48f7-bfe9-48a37c3c2603",
   "metadata": {},
   "outputs": [],
   "source": [
    "simpsons_episodes_filtered.columns"
   ]
  },
  {
   "cell_type": "code",
   "execution_count": 12,
   "id": "e0aaa586-e760-40aa-ad4a-7e46b34c0c4b",
   "metadata": {},
   "outputs": [
    {
     "data": {
      "image/png": "[encoded data removed]",
      "text/plain": [
       "<Figure size 640x480 with 1 Axes>"
      ]
     },
     "metadata": {},
     "output_type": "display_data"
    }
   ],
   "source": [
    "sns.barplot(data = simpsons_episodes_filtered, x = 'original_air_year', y = 'us_viewers_in_millions')\n",
    "plt.show()"
   ]
  },
  {
   "cell_type": "code",
   "execution_count": 13,
   "id": "34e30c3a-2058-4f1d-bb99-f3757f25b53b",
   "metadata": {},
   "outputs": [
    {
     "name": "stderr",
     "output_type": "stream",
     "text": [
      "/var/folders/l7/dn0hll995195kvrl49_9xmp40000gn/T/ipykernel_69292/2774574900.py:1: SettingWithCopyWarning: \n",
      "A value is trying to be set on a copy of a slice from a DataFrame.\n",
      "Try using .loc[row_indexer,col_indexer] = value instead\n",
      "\n",
      "See the caveats in the documentation: https://pandas.pydata.org/pandas-docs/stable/user_guide/indexing.html#returning-a-view-versus-a-copy\n",
      "  simpsons_episodes_filtered['air_date_formatted'] = pd.to_datetime(simpsons_episodes_filtered['original_air_date'])\n"
     ]
    }
   ],
   "source": [
    "simpsons_episodes_filtered['air_date_formatted'] = pd.to_datetime(simpsons_episodes_filtered['original_air_date'])"
   ]
  },
  {
   "cell_type": "code",
   "execution_count": 14,
   "id": "7e42c5e9-da33-4b81-bbcb-12922c877ed8",
   "metadata": {},
   "outputs": [
    {
     "name": "stderr",
     "output_type": "stream",
     "text": [
      "/var/folders/l7/dn0hll995195kvrl49_9xmp40000gn/T/ipykernel_69292/4258543870.py:1: SettingWithCopyWarning: \n",
      "A value is trying to be set on a copy of a slice from a DataFrame.\n",
      "Try using .loc[row_indexer,col_indexer] = value instead\n",
      "\n",
      "See the caveats in the documentation: https://pandas.pydata.org/pandas-docs/stable/user_guide/indexing.html#returning-a-view-versus-a-copy\n",
      "  simpsons_episodes_filtered['week_of_the_year'] = simpsons_episodes_filtered['air_date_formatted'].dt.isocalendar().week\n"
     ]
    }
   ],
   "source": [
    "simpsons_episodes_filtered['week_of_the_year'] = simpsons_episodes_filtered['air_date_formatted'].dt.isocalendar().week"
   ]
  },
  {
   "cell_type": "code",
   "execution_count": 15,
   "id": "2b73d932-958f-42da-a8e8-38851a5e8566",
   "metadata": {},
   "outputs": [
    {
     "name": "stderr",
     "output_type": "stream",
     "text": [
      "/var/folders/l7/dn0hll995195kvrl49_9xmp40000gn/T/ipykernel_69292/425177160.py:1: SettingWithCopyWarning: \n",
      "A value is trying to be set on a copy of a slice from a DataFrame.\n",
      "Try using .loc[row_indexer,col_indexer] = value instead\n",
      "\n",
      "See the caveats in the documentation: https://pandas.pydata.org/pandas-docs/stable/user_guide/indexing.html#returning-a-view-versus-a-copy\n",
      "  simpsons_episodes_filtered['week_of_the_year'] = simpsons_episodes_filtered['week_of_the_year'].apply(lambda x: 1 if x == 53 else x)\n"
     ]
    }
   ],
   "source": [
    "simpsons_episodes_filtered['week_of_the_year'] = simpsons_episodes_filtered['week_of_the_year'].apply(lambda x: 1 if x == 53 else x)"
   ]
  },
  {
   "cell_type": "code",
   "execution_count": 16,
   "id": "043f791c-fe38-4272-bff5-f47eac810d87",
   "metadata": {},
   "outputs": [
    {
     "data": {
      "text/plain": [
       "season\n",
       "22    22\n",
       "23    22\n",
       "24    22\n",
       "25    22\n",
       "26    22\n",
       "27    22\n",
       "21    15\n",
       "28     1\n",
       "Name: count, dtype: int64"
      ]
     },
     "execution_count": 16,
     "metadata": {},
     "output_type": "execute_result"
    }
   ],
   "source": [
    "simpsons_episodes_filtered['season'].value_counts()"
   ]
  },
  {
   "cell_type": "code",
   "execution_count": 17,
   "id": "18ad9c23-18b1-4082-94df-744248242d66",
   "metadata": {},
   "outputs": [
    {
     "data": {
      "text/html": [
       "<div>\n",
       "<style scoped>\n",
       "    .dataframe tbody tr th:only-of-type {\n",
       "        vertical-align: middle;\n",
       "    }\n",
       "\n",
       "    .dataframe tbody tr th {\n",
       "        vertical-align: top;\n",
       "    }\n",
       "\n",
       "    .dataframe thead th {\n",
       "        text-align: right;\n",
       "    }\n",
       "</style>\n",
       "<table border=\"1\" class=\"dataframe\">\n",
       "  <thead>\n",
       "    <tr style=\"text-align: right;\">\n",
       "      <th></th>\n",
       "      <th>id</th>\n",
       "      <th>image_url</th>\n",
       "      <th>imdb_rating</th>\n",
       "      <th>imdb_votes</th>\n",
       "      <th>number_in_season</th>\n",
       "      <th>number_in_series</th>\n",
       "      <th>original_air_date</th>\n",
       "      <th>original_air_year</th>\n",
       "      <th>production_code</th>\n",
       "      <th>season</th>\n",
       "      <th>title</th>\n",
       "      <th>us_viewers_in_millions</th>\n",
       "      <th>video_url</th>\n",
       "      <th>views</th>\n",
       "      <th>air_date_formatted</th>\n",
       "      <th>week_of_the_year</th>\n",
       "    </tr>\n",
       "  </thead>\n",
       "  <tbody>\n",
       "    <tr>\n",
       "      <th>144</th>\n",
       "      <td>597</td>\n",
       "      <td>http://static-media.fxx.com/img/FX_Networks_-_...</td>\n",
       "      <td>6.6</td>\n",
       "      <td>104.0</td>\n",
       "      <td>1</td>\n",
       "      <td>597</td>\n",
       "      <td>2016-09-25</td>\n",
       "      <td>2016</td>\n",
       "      <td>VABF20</td>\n",
       "      <td>28</td>\n",
       "      <td>Monty Burns' Fleeing Circus</td>\n",
       "      <td>3.36</td>\n",
       "      <td>http://www.simpsonsworld.com/video/772654659902</td>\n",
       "      <td>994.0</td>\n",
       "      <td>2016-09-25</td>\n",
       "      <td>38</td>\n",
       "    </tr>\n",
       "  </tbody>\n",
       "</table>\n",
       "</div>"
      ],
      "text/plain": [
       "      id                                          image_url  imdb_rating  \\\n",
       "144  597  http://static-media.fxx.com/img/FX_Networks_-_...          6.6   \n",
       "\n",
       "     imdb_votes  number_in_season  number_in_series original_air_date  \\\n",
       "144       104.0                 1               597        2016-09-25   \n",
       "\n",
       "     original_air_year production_code  season                        title  \\\n",
       "144               2016          VABF20      28  Monty Burns' Fleeing Circus   \n",
       "\n",
       "     us_viewers_in_millions                                        video_url  \\\n",
       "144                    3.36  http://www.simpsonsworld.com/video/772654659902   \n",
       "\n",
       "     views air_date_formatted  week_of_the_year  \n",
       "144  994.0         2016-09-25                38  "
      ]
     },
     "execution_count": 17,
     "metadata": {},
     "output_type": "execute_result"
    }
   ],
   "source": [
    "simpsons_episodes_filtered[simpsons_episodes_filtered['season'] == 28]"
   ]
  },
  {
   "cell_type": "code",
   "execution_count": 18,
   "id": "0280f27a-c5cb-405e-bc0d-0bef19ec01ef",
   "metadata": {},
   "outputs": [],
   "source": [
    "simpsons_episodes_filtered = simpsons_episodes_filtered.query('season != 28')"
   ]
  },
  {
   "cell_type": "code",
   "execution_count": 19,
   "id": "e9ee5190-2472-41b9-a454-e43dd3c35a09",
   "metadata": {},
   "outputs": [
    {
     "data": {
      "text/plain": [
       "season\n",
       "22    22\n",
       "23    22\n",
       "24    22\n",
       "25    22\n",
       "26    22\n",
       "27    22\n",
       "21    15\n",
       "Name: count, dtype: int64"
      ]
     },
     "execution_count": 19,
     "metadata": {},
     "output_type": "execute_result"
    }
   ],
   "source": [
    "simpsons_episodes_filtered['season'].value_counts()"
   ]
  },
  {
   "cell_type": "code",
   "execution_count": 20,
   "id": "6299c5e7-3ea6-45c1-a995-30ada8e205d3",
   "metadata": {},
   "outputs": [
    {
     "data": {
      "text/plain": [
       "[5,\n",
       " 8,\n",
       " 21,\n",
       " 22,\n",
       " 23,\n",
       " 24,\n",
       " 25,\n",
       " 26,\n",
       " 27,\n",
       " 28,\n",
       " 29,\n",
       " 30,\n",
       " 31,\n",
       " 32,\n",
       " 33,\n",
       " 34,\n",
       " 35,\n",
       " 36,\n",
       " 37,\n",
       " 51,\n",
       " 52]"
      ]
     },
     "execution_count": 20,
     "metadata": {},
     "output_type": "execute_result"
    }
   ],
   "source": [
    "existing_weeks = set(simpsons_episodes_filtered['week_of_the_year'])\n",
    "full_weeks = set(range(1, 53))\n",
    "\n",
    "missing_weeks = full_weeks.difference(existing_weeks)\n",
    "\n",
    "missing_weeks = [*missing_weeks]\n",
    "\n",
    "missing_weeks"
   ]
  },
  {
   "cell_type": "code",
   "execution_count": 22,
   "id": "8e3d8e5a-8271-4d50-9d0e-abc466f16e4e",
   "metadata": {},
   "outputs": [],
   "source": [
    "simpsons_episodes_filtered_2 = simpsons_episodes_filtered.copy(deep = True)\n",
    "\n",
    "simpsons_episodes_filtered_2.loc[:, 'week_of_the_year'] = simpsons_episodes_filtered['week_of_the_year'].astype('category')"
   ]
  },
  {
   "cell_type": "code",
   "execution_count": 23,
   "id": "9bdbbc2f-ad95-4871-9245-7188bee5bee8",
   "metadata": {},
   "outputs": [],
   "source": [
    "tv_season_week_order = list(range(38, 53)) + list(range(1, 38))"
   ]
  },
  {
   "cell_type": "code",
   "execution_count": 26,
   "id": "f16bab39-aa50-4ed2-bc11-b12f0bb2b108",
   "metadata": {},
   "outputs": [],
   "source": [
    "simpsons_episodes_filtered_2[\"week_of_the_year\"] = simpsons_episodes_filtered_2[\"week_of_the_year\"].astype(str)"
   ]
  },
  {
   "cell_type": "code",
   "execution_count": 27,
   "id": "872b0dce-295b-4e45-b1b8-2ac67fe2a2a2",
   "metadata": {},
   "outputs": [],
   "source": [
    "simpsons_episodes_filtered_2[\"season\"] = simpsons_episodes_filtered_2[\"season\"].astype('category')"
   ]
  },
  {
   "cell_type": "code",
   "execution_count": 72,
   "id": "e076ed21-3114-441f-b35b-aaf8966372eb",
   "metadata": {},
   "outputs": [
    {
     "data": {
      "application/vnd.plotly.v1+json": {
       "config": {
        "plotlyServerURL": "https://plot.ly"
       },
       "data": [
        {
         "hovertemplate": "<b>TV  Season  Number</b>=21<br><b>Weeks  of  the  Year  with  Seasons</b>=%{x}<br><b>US  Viewers  (in  Millions)</b>=%{y}<extra></extra>",
         "legendgroup": "21",
         "marker": {
          "color": "red",
          "symbol": "circle"
         },
         "mode": "markers",
         "name": "21",
         "orientation": "v",
         "showlegend": true,
         "type": "scatter",
         "x": [
          "1",
          "4",
          "10",
          "12",
          "18",
          "20",
          "19",
          "1",
          "15",
          "17",
          "7",
          "6",
          "11",
          "14",
          "16"
         ],
         "xaxis": "x",
         "y": [
          8.65,
          5.11,
          5.23,
          5.69,
          5.66,
          5.74,
          6.26,
          14.62,
          5.93,
          6.06,
          6.08,
          5.87,
          5.69,
          5.65,
          5.94
         ],
         "yaxis": "y"
        },
        {
         "hovertemplate": "<b>TV  Season  Number</b>=22<br><b>Weeks  of  the  Year  with  Seasons</b>=%{x}<br><b>US  Viewers  (in  Millions)</b>=%{y}<extra></extra>",
         "legendgroup": "22",
         "marker": {
          "color": "green",
          "symbol": "circle"
         },
         "mode": "markers",
         "name": "22",
         "orientation": "v",
         "showlegend": true,
         "type": "scatter",
         "x": [
          "39",
          "45",
          "48",
          "49",
          "3",
          "7",
          "10",
          "14",
          "19",
          "38",
          "9",
          "6",
          "46",
          "12",
          "18",
          "47",
          "17",
          "1",
          "40",
          "2",
          "44",
          "20"
         ],
         "xaxis": "x",
         "y": [
          8.59,
          8.97,
          9.54,
          7.18,
          6.5,
          6.35,
          5.44,
          4.99,
          6,
          7.75,
          6.2,
          5.61,
          6.58,
          6.14,
          5.48,
          9.38,
          6.1,
          12.6,
          6.72,
          6.47,
          8.19,
          5.25
         ],
         "yaxis": "y"
        },
        {
         "hovertemplate": "<b>TV  Season  Number</b>=23<br><b>Weeks  of  the  Year  with  Seasons</b>=%{x}<br><b>US  Viewers  (in  Millions)</b>=%{y}<extra></extra>",
         "legendgroup": "23",
         "marker": {
          "color": "blue",
          "symbol": "circle"
         },
         "mode": "markers",
         "name": "23",
         "orientation": "v",
         "showlegend": true,
         "type": "scatter",
         "x": [
          "38",
          "43",
          "45",
          "48",
          "1",
          "4",
          "15",
          "18",
          "20",
          "39",
          "44",
          "2",
          "19",
          "17",
          "46",
          "6",
          "9",
          "11",
          "49",
          "47",
          "7",
          "10"
         ],
         "xaxis": "x",
         "y": [
          8.08,
          8.1,
          7.5,
          9.01,
          5.07,
          5.12,
          4.86,
          4.84,
          4.82,
          6.19,
          7.97,
          11.48,
          4.07,
          5,
          5.77,
          4.26,
          5.09,
          5.25,
          6.43,
          5.61,
          5.77,
          4.97
         ],
         "yaxis": "y"
        },
        {
         "hovertemplate": "<b>TV  Season  Number</b>=24<br><b>Weeks  of  the  Year  with  Seasons</b>=%{x}<br><b>US  Viewers  (in  Millions)</b>=%{y}<extra></extra>",
         "legendgroup": "24",
         "marker": {
          "color": "black",
          "symbol": "circle"
         },
         "mode": "markers",
         "name": "24",
         "orientation": "v",
         "showlegend": true,
         "type": "scatter",
         "x": [
          "46",
          "50",
          "2",
          "6",
          "9",
          "15",
          "18",
          "45",
          "1",
          "10",
          "17",
          "4",
          "39",
          "47",
          "40",
          "49",
          "7",
          "19",
          "20",
          "11",
          "20",
          "44"
         ],
         "xaxis": "x",
         "y": [
          5.06,
          3.77,
          5.04,
          4.19,
          4.66,
          4.11,
          4.43,
          6.86,
          8.97,
          4.85,
          4.54,
          5.23,
          8.08,
          7.46,
          6.57,
          7.44,
          4.57,
          4.16,
          4.52,
          4.89,
          4.01,
          5.65
         ],
         "yaxis": "y"
        },
        {
         "hovertemplate": "<b>TV  Season  Number</b>=25<br><b>Weeks  of  the  Year  with  Seasons</b>=%{x}<br><b>US  Viewers  (in  Millions)</b>=%{y}<extra></extra>",
         "legendgroup": "25",
         "marker": {
          "color": "magenta",
          "symbol": "circle"
         },
         "mode": "markers",
         "name": "25",
         "orientation": "v",
         "showlegend": true,
         "type": "scatter",
         "x": [
          "39",
          "45",
          "47",
          "50",
          "4",
          "10",
          "12",
          "14",
          "18",
          "20",
          "2",
          "44",
          "49",
          "1",
          "40",
          "46",
          "11",
          "17",
          "19",
          "13",
          "10",
          "15"
         ],
         "xaxis": "x",
         "y": [
          6.37,
          4.2,
          6.78,
          8.48,
          3.87,
          3.75,
          3.98,
          4.3,
          4.39,
          3.28,
          4.83,
          5.43,
          6.85,
          12.04,
          6.42,
          4.08,
          4.02,
          3.45,
          3.66,
          3.91,
          2.69,
          3.64
         ],
         "yaxis": "y"
        },
        {
         "hovertemplate": "<b>TV  Season  Number</b>=26<br><b>Weeks  of  the  Year  with  Seasons</b>=%{x}<br><b>US  Viewers  (in  Millions)</b>=%{y}<extra></extra>",
         "legendgroup": "26",
         "marker": {
          "color": "purple",
          "symbol": "circle"
         },
         "mode": "markers",
         "name": "26",
         "orientation": "v",
         "showlegend": true,
         "type": "scatter",
         "x": [
          "40",
          "44",
          "46",
          "1",
          "4",
          "16",
          "19",
          "47",
          "6",
          "18",
          "11",
          "2",
          "17",
          "10",
          "39",
          "41",
          "49",
          "42",
          "7",
          "20",
          "45",
          "9"
         ],
         "xaxis": "x",
         "y": [
          4.27,
          4.22,
          6.7,
          10.62,
          3.29,
          3.23,
          2.77,
          3.45,
          2.78,
          3.12,
          3.59,
          4.28,
          3.33,
          3.79,
          8.53,
          7.33,
          6.52,
          7.76,
          2.67,
          2.82,
          6.7,
          3.93
         ],
         "yaxis": "y"
        },
        {
         "hovertemplate": "<b>TV  Season  Number</b>=27<br><b>Weeks  of  the  Year  with  Seasons</b>=%{x}<br><b>US  Viewers  (in  Millions)</b>=%{y}<extra></extra>",
         "legendgroup": "27",
         "marker": {
          "color": "brown",
          "symbol": "circle"
         },
         "mode": "markers",
         "name": "27",
         "orientation": "v",
         "showlegend": true,
         "type": "scatter",
         "x": [
          "40",
          "45",
          "50",
          "1",
          "7",
          "10",
          "16",
          "19",
          "43",
          "1",
          "39",
          "47",
          "6",
          "2",
          "13",
          "9",
          "49",
          "41",
          "42",
          "18",
          "14",
          "20"
         ],
         "xaxis": "x",
         "y": [
          6.02,
          3.48,
          5.97,
          8.33,
          3.1,
          3.07,
          2.77,
          2.8,
          6.75,
          4.41,
          3.28,
          5.64,
          2.89,
          3.95,
          2.32,
          3.09,
          5.53,
          3.31,
          3.69,
          2.52,
          2.55,
          2.54
         ],
         "yaxis": "y"
        }
       ],
       "layout": {
        "annotations": [
         {
          "font": {
           "color": "brown",
           "size": 16
          },
          "showarrow": false,
          "text": "🍂 Fall",
          "x": "6",
          "y": -0.2,
          "yref": "paper"
         },
         {
          "font": {
           "color": "darkslateblue",
           "size": 16
          },
          "showarrow": false,
          "text": "⛄ Winter",
          "x": "19",
          "y": -0.2,
          "yref": "paper"
         },
         {
          "font": {
           "color": "olive",
           "size": 12
          },
          "showarrow": false,
          "text": "<i>Holidays</i>",
          "x": "13",
          "y": -0.2,
          "yref": "paper"
         },
         {
          "font": {
           "color": "green",
           "size": 16
          },
          "showarrow": false,
          "text": "🌸 Spring",
          "x": "32",
          "y": -0.2,
          "yref": "paper"
         },
         {
          "font": {
           "color": "red",
           "size": 16
          },
          "showarrow": false,
          "text": "☀️ Summer",
          "x": "45",
          "y": -0.2,
          "yref": "paper"
         },
         {
          "font": {
           "family": "Helvetica",
           "size": 8
          },
          "showarrow": false,
          "text": "Source: Kaggle | Font: Sharkshock | Analysis: Ariella Zwerling | #TidyTuesday",
          "x": 1.13,
          "xref": "paper",
          "y": -0.36,
          "yref": "paper"
         }
        ],
        "font": {
         "color": "black",
         "family": "simpsonfont"
        },
        "height": 500,
        "legend": {
         "title": {
          "font": {
           "color": "black"
          },
          "text": "<b>TV  Season  Number</b>"
         },
         "tracegroupgap": 0
        },
        "paper_bgcolor": "rgb(255,217,15)",
        "plot_bgcolor": "rgb(255,217,15)",
        "template": {
         "data": {
          "bar": [
           {
            "error_x": {
             "color": "#2a3f5f"
            },
            "error_y": {
             "color": "#2a3f5f"
            },
            "marker": {
             "line": {
              "color": "#E5ECF6",
              "width": 0.5
             },
             "pattern": {
              "fillmode": "overlay",
              "size": 10,
              "solidity": 0.2
             }
            },
            "type": "bar"
           }
          ],
          "barpolar": [
           {
            "marker": {
             "line": {
              "color": "#E5ECF6",
              "width": 0.5
             },
             "pattern": {
              "fillmode": "overlay",
              "size": 10,
              "solidity": 0.2
             }
            },
            "type": "barpolar"
           }
          ],
          "carpet": [
           {
            "aaxis": {
             "endlinecolor": "#2a3f5f",
             "gridcolor": "white",
             "linecolor": "white",
             "minorgridcolor": "white",
             "startlinecolor": "#2a3f5f"
            },
            "baxis": {
             "endlinecolor": "#2a3f5f",
             "gridcolor": "white",
             "linecolor": "white",
             "minorgridcolor": "white",
             "startlinecolor": "#2a3f5f"
            },
            "type": "carpet"
           }
          ],
          "choropleth": [
           {
            "colorbar": {
             "outlinewidth": 0,
             "ticks": ""
            },
            "type": "choropleth"
           }
          ],
          "contour": [
           {
            "colorbar": {
             "outlinewidth": 0,
             "ticks": ""
            },
            "colorscale": [
             [
              0,
              "#0d0887"
             ],
             [
              0.1111111111111111,
              "#46039f"
             ],
             [
              0.2222222222222222,
              "#7201a8"
             ],
             [
              0.3333333333333333,
              "#9c179e"
             ],
             [
              0.4444444444444444,
              "#bd3786"
             ],
             [
              0.5555555555555556,
              "#d8576b"
             ],
             [
              0.6666666666666666,
              "#ed7953"
             ],
             [
              0.7777777777777778,
              "#fb9f3a"
             ],
             [
              0.8888888888888888,
              "#fdca26"
             ],
             [
              1,
              "#f0f921"
             ]
            ],
            "type": "contour"
           }
          ],
          "contourcarpet": [
           {
            "colorbar": {
             "outlinewidth": 0,
             "ticks": ""
            },
            "type": "contourcarpet"
           }
          ],
          "heatmap": [
           {
            "colorbar": {
             "outlinewidth": 0,
             "ticks": ""
            },
            "colorscale": [
             [
              0,
              "#0d0887"
             ],
             [
              0.1111111111111111,
              "#46039f"
             ],
             [
              0.2222222222222222,
              "#7201a8"
             ],
             [
              0.3333333333333333,
              "#9c179e"
             ],
             [
              0.4444444444444444,
              "#bd3786"
             ],
             [
              0.5555555555555556,
              "#d8576b"
             ],
             [
              0.6666666666666666,
              "#ed7953"
             ],
             [
              0.7777777777777778,
              "#fb9f3a"
             ],
             [
              0.8888888888888888,
              "#fdca26"
             ],
             [
              1,
              "#f0f921"
             ]
            ],
            "type": "heatmap"
           }
          ],
          "heatmapgl": [
           {
            "colorbar": {
             "outlinewidth": 0,
             "ticks": ""
            },
            "colorscale": [
             [
              0,
              "#0d0887"
             ],
             [
              0.1111111111111111,
              "#46039f"
             ],
             [
              0.2222222222222222,
              "#7201a8"
             ],
             [
              0.3333333333333333,
              "#9c179e"
             ],
             [
              0.4444444444444444,
              "#bd3786"
             ],
             [
              0.5555555555555556,
              "#d8576b"
             ],
             [
              0.6666666666666666,
              "#ed7953"
             ],
             [
              0.7777777777777778,
              "#fb9f3a"
             ],
             [
              0.8888888888888888,
              "#fdca26"
             ],
             [
              1,
              "#f0f921"
             ]
            ],
            "type": "heatmapgl"
           }
          ],
          "histogram": [
           {
            "marker": {
             "pattern": {
              "fillmode": "overlay",
              "size": 10,
              "solidity": 0.2
             }
            },
            "type": "histogram"
           }
          ],
          "histogram2d": [
           {
            "colorbar": {
             "outlinewidth": 0,
             "ticks": ""
            },
            "colorscale": [
             [
              0,
              "#0d0887"
             ],
             [
              0.1111111111111111,
              "#46039f"
             ],
             [
              0.2222222222222222,
              "#7201a8"
             ],
             [
              0.3333333333333333,
              "#9c179e"
             ],
             [
              0.4444444444444444,
              "#bd3786"
             ],
             [
              0.5555555555555556,
              "#d8576b"
             ],
             [
              0.6666666666666666,
              "#ed7953"
             ],
             [
              0.7777777777777778,
              "#fb9f3a"
             ],
             [
              0.8888888888888888,
              "#fdca26"
             ],
             [
              1,
              "#f0f921"
             ]
            ],
            "type": "histogram2d"
           }
          ],
          "histogram2dcontour": [
           {
            "colorbar": {
             "outlinewidth": 0,
             "ticks": ""
            },
            "colorscale": [
             [
              0,
              "#0d0887"
             ],
             [
              0.1111111111111111,
              "#46039f"
             ],
             [
              0.2222222222222222,
              "#7201a8"
             ],
             [
              0.3333333333333333,
              "#9c179e"
             ],
             [
              0.4444444444444444,
              "#bd3786"
             ],
             [
              0.5555555555555556,
              "#d8576b"
             ],
             [
              0.6666666666666666,
              "#ed7953"
             ],
             [
              0.7777777777777778,
              "#fb9f3a"
             ],
             [
              0.8888888888888888,
              "#fdca26"
             ],
             [
              1,
              "#f0f921"
             ]
            ],
            "type": "histogram2dcontour"
           }
          ],
          "mesh3d": [
           {
            "colorbar": {
             "outlinewidth": 0,
             "ticks": ""
            },
            "type": "mesh3d"
           }
          ],
          "parcoords": [
           {
            "line": {
             "colorbar": {
              "outlinewidth": 0,
              "ticks": ""
             }
            },
            "type": "parcoords"
           }
          ],
          "pie": [
           {
            "automargin": true,
            "type": "pie"
           }
          ],
          "scatter": [
           {
            "fillpattern": {
             "fillmode": "overlay",
             "size": 10,
             "solidity": 0.2
            },
            "type": "scatter"
           }
          ],
          "scatter3d": [
           {
            "line": {
             "colorbar": {
              "outlinewidth": 0,
              "ticks": ""
             }
            },
            "marker": {
             "colorbar": {
              "outlinewidth": 0,
              "ticks": ""
             }
            },
            "type": "scatter3d"
           }
          ],
          "scattercarpet": [
           {
            "marker": {
             "colorbar": {
              "outlinewidth": 0,
              "ticks": ""
             }
            },
            "type": "scattercarpet"
           }
          ],
          "scattergeo": [
           {
            "marker": {
             "colorbar": {
              "outlinewidth": 0,
              "ticks": ""
             }
            },
            "type": "scattergeo"
           }
          ],
          "scattergl": [
           {
            "marker": {
             "colorbar": {
              "outlinewidth": 0,
              "ticks": ""
             }
            },
            "type": "scattergl"
           }
          ],
          "scattermapbox": [
           {
            "marker": {
             "colorbar": {
              "outlinewidth": 0,
              "ticks": ""
             }
            },
            "type": "scattermapbox"
           }
          ],
          "scatterpolar": [
           {
            "marker": {
             "colorbar": {
              "outlinewidth": 0,
              "ticks": ""
             }
            },
            "type": "scatterpolar"
           }
          ],
          "scatterpolargl": [
           {
            "marker": {
             "colorbar": {
              "outlinewidth": 0,
              "ticks": ""
             }
            },
            "type": "scatterpolargl"
           }
          ],
          "scatterternary": [
           {
            "marker": {
             "colorbar": {
              "outlinewidth": 0,
              "ticks": ""
             }
            },
            "type": "scatterternary"
           }
          ],
          "surface": [
           {
            "colorbar": {
             "outlinewidth": 0,
             "ticks": ""
            },
            "colorscale": [
             [
              0,
              "#0d0887"
             ],
             [
              0.1111111111111111,
              "#46039f"
             ],
             [
              0.2222222222222222,
              "#7201a8"
             ],
             [
              0.3333333333333333,
              "#9c179e"
             ],
             [
              0.4444444444444444,
              "#bd3786"
             ],
             [
              0.5555555555555556,
              "#d8576b"
             ],
             [
              0.6666666666666666,
              "#ed7953"
             ],
             [
              0.7777777777777778,
              "#fb9f3a"
             ],
             [
              0.8888888888888888,
              "#fdca26"
             ],
             [
              1,
              "#f0f921"
             ]
            ],
            "type": "surface"
           }
          ],
          "table": [
           {
            "cells": {
             "fill": {
              "color": "#EBF0F8"
             },
             "line": {
              "color": "white"
             }
            },
            "header": {
             "fill": {
              "color": "#C8D4E3"
             },
             "line": {
              "color": "white"
             }
            },
            "type": "table"
           }
          ]
         },
         "layout": {
          "annotationdefaults": {
           "arrowcolor": "#2a3f5f",
           "arrowhead": 0,
           "arrowwidth": 1
          },
          "autotypenumbers": "strict",
          "coloraxis": {
           "colorbar": {
            "outlinewidth": 0,
            "ticks": ""
           }
          },
          "colorscale": {
           "diverging": [
            [
             0,
             "#8e0152"
            ],
            [
             0.1,
             "#c51b7d"
            ],
            [
             0.2,
             "#de77ae"
            ],
            [
             0.3,
             "#f1b6da"
            ],
            [
             0.4,
             "#fde0ef"
            ],
            [
             0.5,
             "#f7f7f7"
            ],
            [
             0.6,
             "#e6f5d0"
            ],
            [
             0.7,
             "#b8e186"
            ],
            [
             0.8,
             "#7fbc41"
            ],
            [
             0.9,
             "#4d9221"
            ],
            [
             1,
             "#276419"
            ]
           ],
           "sequential": [
            [
             0,
             "#0d0887"
            ],
            [
             0.1111111111111111,
             "#46039f"
            ],
            [
             0.2222222222222222,
             "#7201a8"
            ],
            [
             0.3333333333333333,
             "#9c179e"
            ],
            [
             0.4444444444444444,
             "#bd3786"
            ],
            [
             0.5555555555555556,
             "#d8576b"
            ],
            [
             0.6666666666666666,
             "#ed7953"
            ],
            [
             0.7777777777777778,
             "#fb9f3a"
            ],
            [
             0.8888888888888888,
             "#fdca26"
            ],
            [
             1,
             "#f0f921"
            ]
           ],
           "sequentialminus": [
            [
             0,
             "#0d0887"
            ],
            [
             0.1111111111111111,
             "#46039f"
            ],
            [
             0.2222222222222222,
             "#7201a8"
            ],
            [
             0.3333333333333333,
             "#9c179e"
            ],
            [
             0.4444444444444444,
             "#bd3786"
            ],
            [
             0.5555555555555556,
             "#d8576b"
            ],
            [
             0.6666666666666666,
             "#ed7953"
            ],
            [
             0.7777777777777778,
             "#fb9f3a"
            ],
            [
             0.8888888888888888,
             "#fdca26"
            ],
            [
             1,
             "#f0f921"
            ]
           ]
          },
          "colorway": [
           "#636efa",
           "#EF553B",
           "#00cc96",
           "#ab63fa",
           "#FFA15A",
           "#19d3f3",
           "#FF6692",
           "#B6E880",
           "#FF97FF",
           "#FECB52"
          ],
          "font": {
           "color": "#2a3f5f"
          },
          "geo": {
           "bgcolor": "white",
           "lakecolor": "white",
           "landcolor": "#E5ECF6",
           "showlakes": true,
           "showland": true,
           "subunitcolor": "white"
          },
          "hoverlabel": {
           "align": "left"
          },
          "hovermode": "closest",
          "mapbox": {
           "style": "light"
          },
          "paper_bgcolor": "white",
          "plot_bgcolor": "#E5ECF6",
          "polar": {
           "angularaxis": {
            "gridcolor": "white",
            "linecolor": "white",
            "ticks": ""
           },
           "bgcolor": "#E5ECF6",
           "radialaxis": {
            "gridcolor": "white",
            "linecolor": "white",
            "ticks": ""
           }
          },
          "scene": {
           "xaxis": {
            "backgroundcolor": "#E5ECF6",
            "gridcolor": "white",
            "gridwidth": 2,
            "linecolor": "white",
            "showbackground": true,
            "ticks": "",
            "zerolinecolor": "white"
           },
           "yaxis": {
            "backgroundcolor": "#E5ECF6",
            "gridcolor": "white",
            "gridwidth": 2,
            "linecolor": "white",
            "showbackground": true,
            "ticks": "",
            "zerolinecolor": "white"
           },
           "zaxis": {
            "backgroundcolor": "#E5ECF6",
            "gridcolor": "white",
            "gridwidth": 2,
            "linecolor": "white",
            "showbackground": true,
            "ticks": "",
            "zerolinecolor": "white"
           }
          },
          "shapedefaults": {
           "line": {
            "color": "#2a3f5f"
           }
          },
          "ternary": {
           "aaxis": {
            "gridcolor": "white",
            "linecolor": "white",
            "ticks": ""
           },
           "baxis": {
            "gridcolor": "white",
            "linecolor": "white",
            "ticks": ""
           },
           "bgcolor": "#E5ECF6",
           "caxis": {
            "gridcolor": "white",
            "linecolor": "white",
            "ticks": ""
           }
          },
          "title": {
           "x": 0.05
          },
          "xaxis": {
           "automargin": true,
           "gridcolor": "white",
           "linecolor": "white",
           "ticks": "",
           "title": {
            "standoff": 15
           },
           "zerolinecolor": "white",
           "zerolinewidth": 2
          },
          "yaxis": {
           "automargin": true,
           "gridcolor": "white",
           "linecolor": "white",
           "ticks": "",
           "title": {
            "standoff": 15
           },
           "zerolinecolor": "white",
           "zerolinewidth": 2
          }
         }
        },
        "title": {
         "font": {
          "color": "black",
          "family": "simpsonfont",
          "size": 25
         },
         "text": "<b>US  Viewership  by  Week  of  the  Year</b>"
        },
        "width": 1500,
        "xaxis": {
         "anchor": "y",
         "automargin": true,
         "categoryarray": [
          "38",
          "39",
          "40",
          "41",
          "42",
          "43",
          "44",
          "45",
          "46",
          "47",
          "48",
          "49",
          "50",
          "51",
          "52",
          "1",
          "2",
          "3",
          "4",
          "5",
          "6",
          "7",
          "8",
          "9",
          "10",
          "11",
          "12",
          "13",
          "14",
          "15",
          "16",
          "17",
          "18",
          "19",
          "20",
          "21",
          "22",
          "23",
          "24",
          "25",
          "26",
          "27",
          "28",
          "29",
          "30",
          "31",
          "32",
          "33",
          "34",
          "35",
          "36",
          "37"
         ],
         "categoryorder": "array",
         "domain": [
          0,
          1
         ],
         "range": [
          -1,
          52
         ],
         "title": {
          "standoff": 75,
          "text": "<b>Weeks  of  the  Year  with  Seasons</b>"
         },
         "type": "category"
        },
        "yaxis": {
         "anchor": "x",
         "autorange": true,
         "domain": [
          0,
          1
         ],
         "range": [
          1.4323205741626792,
          15.50767942583732
         ],
         "title": {
          "text": "<b>US  Viewers  (in  Millions)</b>"
         },
         "type": "linear"
        }
       }
      },
      "image/png": "[encoded data removed]",
      "text/html": [
       "<div>                            <div id=\"21b293b9-51a9-4191-a5d8-e24fd9c265bd\" class=\"plotly-graph-div\" style=\"height:500px; width:1500px;\"></div>            <script type=\"text/javascript\">                require([\"plotly\"], function(Plotly) {                    window.PLOTLYENV=window.PLOTLYENV || {};                                    if (document.getElementById(\"21b293b9-51a9-4191-a5d8-e24fd9c265bd\")) {                    Plotly.newPlot(                        \"21b293b9-51a9-4191-a5d8-e24fd9c265bd\",                        [{\"hovertemplate\":\"\\u003cb\\u003eTV  Season  Number\\u003c\\u002fb\\u003e=21\\u003cbr\\u003e\\u003cb\\u003eWeeks  of  the  Year  with  Seasons\\u003c\\u002fb\\u003e=%{x}\\u003cbr\\u003e\\u003cb\\u003eUS  Viewers  (in  Millions)\\u003c\\u002fb\\u003e=%{y}\\u003cextra\\u003e\\u003c\\u002fextra\\u003e\",\"legendgroup\":\"21\",\"marker\":{\"color\":\"red\",\"symbol\":\"circle\"},\"mode\":\"markers\",\"name\":\"21\",\"orientation\":\"v\",\"showlegend\":true,\"x\":[\"1\",\"4\",\"10\",\"12\",\"18\",\"20\",\"19\",\"1\",\"15\",\"17\",\"7\",\"6\",\"11\",\"14\",\"16\"],\"xaxis\":\"x\",\"y\":[8.65,5.11,5.23,5.69,5.66,5.74,6.26,14.62,5.93,6.06,6.08,5.87,5.69,5.65,5.94],\"yaxis\":\"y\",\"type\":\"scatter\"},{\"hovertemplate\":\"\\u003cb\\u003eTV  Season  Number\\u003c\\u002fb\\u003e=22\\u003cbr\\u003e\\u003cb\\u003eWeeks  of  the  Year  with  Seasons\\u003c\\u002fb\\u003e=%{x}\\u003cbr\\u003e\\u003cb\\u003eUS  Viewers  (in  Millions)\\u003c\\u002fb\\u003e=%{y}\\u003cextra\\u003e\\u003c\\u002fextra\\u003e\",\"legendgroup\":\"22\",\"marker\":{\"color\":\"green\",\"symbol\":\"circle\"},\"mode\":\"markers\",\"name\":\"22\",\"orientation\":\"v\",\"showlegend\":true,\"x\":[\"39\",\"45\",\"48\",\"49\",\"3\",\"7\",\"10\",\"14\",\"19\",\"38\",\"9\",\"6\",\"46\",\"12\",\"18\",\"47\",\"17\",\"1\",\"40\",\"2\",\"44\",\"20\"],\"xaxis\":\"x\",\"y\":[8.59,8.97,9.54,7.18,6.5,6.35,5.44,4.99,6.0,7.75,6.2,5.61,6.58,6.14,5.48,9.38,6.1,12.6,6.72,6.47,8.19,5.25],\"yaxis\":\"y\",\"type\":\"scatter\"},{\"hovertemplate\":\"\\u003cb\\u003eTV  Season  Number\\u003c\\u002fb\\u003e=23\\u003cbr\\u003e\\u003cb\\u003eWeeks  of  the  Year  with  Seasons\\u003c\\u002fb\\u003e=%{x}\\u003cbr\\u003e\\u003cb\\u003eUS  Viewers  (in  Millions)\\u003c\\u002fb\\u003e=%{y}\\u003cextra\\u003e\\u003c\\u002fextra\\u003e\",\"legendgroup\":\"23\",\"marker\":{\"color\":\"blue\",\"symbol\":\"circle\"},\"mode\":\"markers\",\"name\":\"23\",\"orientation\":\"v\",\"showlegend\":true,\"x\":[\"38\",\"43\",\"45\",\"48\",\"1\",\"4\",\"15\",\"18\",\"20\",\"39\",\"44\",\"2\",\"19\",\"17\",\"46\",\"6\",\"9\",\"11\",\"49\",\"47\",\"7\",\"10\"],\"xaxis\":\"x\",\"y\":[8.08,8.1,7.5,9.01,5.07,5.12,4.86,4.84,4.82,6.19,7.97,11.48,4.07,5.0,5.77,4.26,5.09,5.25,6.43,5.61,5.77,4.97],\"yaxis\":\"y\",\"type\":\"scatter\"},{\"hovertemplate\":\"\\u003cb\\u003eTV  Season  Number\\u003c\\u002fb\\u003e=24\\u003cbr\\u003e\\u003cb\\u003eWeeks  of  the  Year  with  Seasons\\u003c\\u002fb\\u003e=%{x}\\u003cbr\\u003e\\u003cb\\u003eUS  Viewers  (in  Millions)\\u003c\\u002fb\\u003e=%{y}\\u003cextra\\u003e\\u003c\\u002fextra\\u003e\",\"legendgroup\":\"24\",\"marker\":{\"color\":\"black\",\"symbol\":\"circle\"},\"mode\":\"markers\",\"name\":\"24\",\"orientation\":\"v\",\"showlegend\":true,\"x\":[\"46\",\"50\",\"2\",\"6\",\"9\",\"15\",\"18\",\"45\",\"1\",\"10\",\"17\",\"4\",\"39\",\"47\",\"40\",\"49\",\"7\",\"19\",\"20\",\"11\",\"20\",\"44\"],\"xaxis\":\"x\",\"y\":[5.06,3.77,5.04,4.19,4.66,4.11,4.43,6.86,8.97,4.85,4.54,5.23,8.08,7.46,6.57,7.44,4.57,4.16,4.52,4.89,4.01,5.65],\"yaxis\":\"y\",\"type\":\"scatter\"},{\"hovertemplate\":\"\\u003cb\\u003eTV  Season  Number\\u003c\\u002fb\\u003e=25\\u003cbr\\u003e\\u003cb\\u003eWeeks  of  the  Year  with  Seasons\\u003c\\u002fb\\u003e=%{x}\\u003cbr\\u003e\\u003cb\\u003eUS  Viewers  (in  Millions)\\u003c\\u002fb\\u003e=%{y}\\u003cextra\\u003e\\u003c\\u002fextra\\u003e\",\"legendgroup\":\"25\",\"marker\":{\"color\":\"magenta\",\"symbol\":\"circle\"},\"mode\":\"markers\",\"name\":\"25\",\"orientation\":\"v\",\"showlegend\":true,\"x\":[\"39\",\"45\",\"47\",\"50\",\"4\",\"10\",\"12\",\"14\",\"18\",\"20\",\"2\",\"44\",\"49\",\"1\",\"40\",\"46\",\"11\",\"17\",\"19\",\"13\",\"10\",\"15\"],\"xaxis\":\"x\",\"y\":[6.37,4.2,6.78,8.48,3.87,3.75,3.98,4.3,4.39,3.28,4.83,5.43,6.85,12.04,6.42,4.08,4.02,3.45,3.66,3.91,2.69,3.64],\"yaxis\":\"y\",\"type\":\"scatter\"},{\"hovertemplate\":\"\\u003cb\\u003eTV  Season  Number\\u003c\\u002fb\\u003e=26\\u003cbr\\u003e\\u003cb\\u003eWeeks  of  the  Year  with  Seasons\\u003c\\u002fb\\u003e=%{x}\\u003cbr\\u003e\\u003cb\\u003eUS  Viewers  (in  Millions)\\u003c\\u002fb\\u003e=%{y}\\u003cextra\\u003e\\u003c\\u002fextra\\u003e\",\"legendgroup\":\"26\",\"marker\":{\"color\":\"purple\",\"symbol\":\"circle\"},\"mode\":\"markers\",\"name\":\"26\",\"orientation\":\"v\",\"showlegend\":true,\"x\":[\"40\",\"44\",\"46\",\"1\",\"4\",\"16\",\"19\",\"47\",\"6\",\"18\",\"11\",\"2\",\"17\",\"10\",\"39\",\"41\",\"49\",\"42\",\"7\",\"20\",\"45\",\"9\"],\"xaxis\":\"x\",\"y\":[4.27,4.22,6.7,10.62,3.29,3.23,2.77,3.45,2.78,3.12,3.59,4.28,3.33,3.79,8.53,7.33,6.52,7.76,2.67,2.82,6.7,3.93],\"yaxis\":\"y\",\"type\":\"scatter\"},{\"hovertemplate\":\"\\u003cb\\u003eTV  Season  Number\\u003c\\u002fb\\u003e=27\\u003cbr\\u003e\\u003cb\\u003eWeeks  of  the  Year  with  Seasons\\u003c\\u002fb\\u003e=%{x}\\u003cbr\\u003e\\u003cb\\u003eUS  Viewers  (in  Millions)\\u003c\\u002fb\\u003e=%{y}\\u003cextra\\u003e\\u003c\\u002fextra\\u003e\",\"legendgroup\":\"27\",\"marker\":{\"color\":\"brown\",\"symbol\":\"circle\"},\"mode\":\"markers\",\"name\":\"27\",\"orientation\":\"v\",\"showlegend\":true,\"x\":[\"40\",\"45\",\"50\",\"1\",\"7\",\"10\",\"16\",\"19\",\"43\",\"1\",\"39\",\"47\",\"6\",\"2\",\"13\",\"9\",\"49\",\"41\",\"42\",\"18\",\"14\",\"20\"],\"xaxis\":\"x\",\"y\":[6.02,3.48,5.97,8.33,3.1,3.07,2.77,2.8,6.75,4.41,3.28,5.64,2.89,3.95,2.32,3.09,5.53,3.31,3.69,2.52,2.55,2.54],\"yaxis\":\"y\",\"type\":\"scatter\"}],                        {\"template\":{\"data\":{\"histogram2dcontour\":[{\"type\":\"histogram2dcontour\",\"colorbar\":{\"outlinewidth\":0,\"ticks\":\"\"},\"colorscale\":[[0.0,\"#0d0887\"],[0.1111111111111111,\"#46039f\"],[0.2222222222222222,\"#7201a8\"],[0.3333333333333333,\"#9c179e\"],[0.4444444444444444,\"#bd3786\"],[0.5555555555555556,\"#d8576b\"],[0.6666666666666666,\"#ed7953\"],[0.7777777777777778,\"#fb9f3a\"],[0.8888888888888888,\"#fdca26\"],[1.0,\"#f0f921\"]]}],\"choropleth\":[{\"type\":\"choropleth\",\"colorbar\":{\"outlinewidth\":0,\"ticks\":\"\"}}],\"histogram2d\":[{\"type\":\"histogram2d\",\"colorbar\":{\"outlinewidth\":0,\"ticks\":\"\"},\"colorscale\":[[0.0,\"#0d0887\"],[0.1111111111111111,\"#46039f\"],[0.2222222222222222,\"#7201a8\"],[0.3333333333333333,\"#9c179e\"],[0.4444444444444444,\"#bd3786\"],[0.5555555555555556,\"#d8576b\"],[0.6666666666666666,\"#ed7953\"],[0.7777777777777778,\"#fb9f3a\"],[0.8888888888888888,\"#fdca26\"],[1.0,\"#f0f921\"]]}],\"heatmap\":[{\"type\":\"heatmap\",\"colorbar\":{\"outlinewidth\":0,\"ticks\":\"\"},\"colorscale\":[[0.0,\"#0d0887\"],[0.1111111111111111,\"#46039f\"],[0.2222222222222222,\"#7201a8\"],[0.3333333333333333,\"#9c179e\"],[0.4444444444444444,\"#bd3786\"],[0.5555555555555556,\"#d8576b\"],[0.6666666666666666,\"#ed7953\"],[0.7777777777777778,\"#fb9f3a\"],[0.8888888888888888,\"#fdca26\"],[1.0,\"#f0f921\"]]}],\"heatmapgl\":[{\"type\":\"heatmapgl\",\"colorbar\":{\"outlinewidth\":0,\"ticks\":\"\"},\"colorscale\":[[0.0,\"#0d0887\"],[0.1111111111111111,\"#46039f\"],[0.2222222222222222,\"#7201a8\"],[0.3333333333333333,\"#9c179e\"],[0.4444444444444444,\"#bd3786\"],[0.5555555555555556,\"#d8576b\"],[0.6666666666666666,\"#ed7953\"],[0.7777777777777778,\"#fb9f3a\"],[0.8888888888888888,\"#fdca26\"],[1.0,\"#f0f921\"]]}],\"contourcarpet\":[{\"type\":\"contourcarpet\",\"colorbar\":{\"outlinewidth\":0,\"ticks\":\"\"}}],\"contour\":[{\"type\":\"contour\",\"colorbar\":{\"outlinewidth\":0,\"ticks\":\"\"},\"colorscale\":[[0.0,\"#0d0887\"],[0.1111111111111111,\"#46039f\"],[0.2222222222222222,\"#7201a8\"],[0.3333333333333333,\"#9c179e\"],[0.4444444444444444,\"#bd3786\"],[0.5555555555555556,\"#d8576b\"],[0.6666666666666666,\"#ed7953\"],[0.7777777777777778,\"#fb9f3a\"],[0.8888888888888888,\"#fdca26\"],[1.0,\"#f0f921\"]]}],\"surface\":[{\"type\":\"surface\",\"colorbar\":{\"outlinewidth\":0,\"ticks\":\"\"},\"colorscale\":[[0.0,\"#0d0887\"],[0.1111111111111111,\"#46039f\"],[0.2222222222222222,\"#7201a8\"],[0.3333333333333333,\"#9c179e\"],[0.4444444444444444,\"#bd3786\"],[0.5555555555555556,\"#d8576b\"],[0.6666666666666666,\"#ed7953\"],[0.7777777777777778,\"#fb9f3a\"],[0.8888888888888888,\"#fdca26\"],[1.0,\"#f0f921\"]]}],\"mesh3d\":[{\"type\":\"mesh3d\",\"colorbar\":{\"outlinewidth\":0,\"ticks\":\"\"}}],\"scatter\":[{\"fillpattern\":{\"fillmode\":\"overlay\",\"size\":10,\"solidity\":0.2},\"type\":\"scatter\"}],\"parcoords\":[{\"type\":\"parcoords\",\"line\":{\"colorbar\":{\"outlinewidth\":0,\"ticks\":\"\"}}}],\"scatterpolargl\":[{\"type\":\"scatterpolargl\",\"marker\":{\"colorbar\":{\"outlinewidth\":0,\"ticks\":\"\"}}}],\"bar\":[{\"error_x\":{\"color\":\"#2a3f5f\"},\"error_y\":{\"color\":\"#2a3f5f\"},\"marker\":{\"line\":{\"color\":\"#E5ECF6\",\"width\":0.5},\"pattern\":{\"fillmode\":\"overlay\",\"size\":10,\"solidity\":0.2}},\"type\":\"bar\"}],\"scattergeo\":[{\"type\":\"scattergeo\",\"marker\":{\"colorbar\":{\"outlinewidth\":0,\"ticks\":\"\"}}}],\"scatterpolar\":[{\"type\":\"scatterpolar\",\"marker\":{\"colorbar\":{\"outlinewidth\":0,\"ticks\":\"\"}}}],\"histogram\":[{\"marker\":{\"pattern\":{\"fillmode\":\"overlay\",\"size\":10,\"solidity\":0.2}},\"type\":\"histogram\"}],\"scattergl\":[{\"type\":\"scattergl\",\"marker\":{\"colorbar\":{\"outlinewidth\":0,\"ticks\":\"\"}}}],\"scatter3d\":[{\"type\":\"scatter3d\",\"line\":{\"colorbar\":{\"outlinewidth\":0,\"ticks\":\"\"}},\"marker\":{\"colorbar\":{\"outlinewidth\":0,\"ticks\":\"\"}}}],\"scattermapbox\":[{\"type\":\"scattermapbox\",\"marker\":{\"colorbar\":{\"outlinewidth\":0,\"ticks\":\"\"}}}],\"scatterternary\":[{\"type\":\"scatterternary\",\"marker\":{\"colorbar\":{\"outlinewidth\":0,\"ticks\":\"\"}}}],\"scattercarpet\":[{\"type\":\"scattercarpet\",\"marker\":{\"colorbar\":{\"outlinewidth\":0,\"ticks\":\"\"}}}],\"carpet\":[{\"aaxis\":{\"endlinecolor\":\"#2a3f5f\",\"gridcolor\":\"white\",\"linecolor\":\"white\",\"minorgridcolor\":\"white\",\"startlinecolor\":\"#2a3f5f\"},\"baxis\":{\"endlinecolor\":\"#2a3f5f\",\"gridcolor\":\"white\",\"linecolor\":\"white\",\"minorgridcolor\":\"white\",\"startlinecolor\":\"#2a3f5f\"},\"type\":\"carpet\"}],\"table\":[{\"cells\":{\"fill\":{\"color\":\"#EBF0F8\"},\"line\":{\"color\":\"white\"}},\"header\":{\"fill\":{\"color\":\"#C8D4E3\"},\"line\":{\"color\":\"white\"}},\"type\":\"table\"}],\"barpolar\":[{\"marker\":{\"line\":{\"color\":\"#E5ECF6\",\"width\":0.5},\"pattern\":{\"fillmode\":\"overlay\",\"size\":10,\"solidity\":0.2}},\"type\":\"barpolar\"}],\"pie\":[{\"automargin\":true,\"type\":\"pie\"}]},\"layout\":{\"autotypenumbers\":\"strict\",\"colorway\":[\"#636efa\",\"#EF553B\",\"#00cc96\",\"#ab63fa\",\"#FFA15A\",\"#19d3f3\",\"#FF6692\",\"#B6E880\",\"#FF97FF\",\"#FECB52\"],\"font\":{\"color\":\"#2a3f5f\"},\"hovermode\":\"closest\",\"hoverlabel\":{\"align\":\"left\"},\"paper_bgcolor\":\"white\",\"plot_bgcolor\":\"#E5ECF6\",\"polar\":{\"bgcolor\":\"#E5ECF6\",\"angularaxis\":{\"gridcolor\":\"white\",\"linecolor\":\"white\",\"ticks\":\"\"},\"radialaxis\":{\"gridcolor\":\"white\",\"linecolor\":\"white\",\"ticks\":\"\"}},\"ternary\":{\"bgcolor\":\"#E5ECF6\",\"aaxis\":{\"gridcolor\":\"white\",\"linecolor\":\"white\",\"ticks\":\"\"},\"baxis\":{\"gridcolor\":\"white\",\"linecolor\":\"white\",\"ticks\":\"\"},\"caxis\":{\"gridcolor\":\"white\",\"linecolor\":\"white\",\"ticks\":\"\"}},\"coloraxis\":{\"colorbar\":{\"outlinewidth\":0,\"ticks\":\"\"}},\"colorscale\":{\"sequential\":[[0.0,\"#0d0887\"],[0.1111111111111111,\"#46039f\"],[0.2222222222222222,\"#7201a8\"],[0.3333333333333333,\"#9c179e\"],[0.4444444444444444,\"#bd3786\"],[0.5555555555555556,\"#d8576b\"],[0.6666666666666666,\"#ed7953\"],[0.7777777777777778,\"#fb9f3a\"],[0.8888888888888888,\"#fdca26\"],[1.0,\"#f0f921\"]],\"sequentialminus\":[[0.0,\"#0d0887\"],[0.1111111111111111,\"#46039f\"],[0.2222222222222222,\"#7201a8\"],[0.3333333333333333,\"#9c179e\"],[0.4444444444444444,\"#bd3786\"],[0.5555555555555556,\"#d8576b\"],[0.6666666666666666,\"#ed7953\"],[0.7777777777777778,\"#fb9f3a\"],[0.8888888888888888,\"#fdca26\"],[1.0,\"#f0f921\"]],\"diverging\":[[0,\"#8e0152\"],[0.1,\"#c51b7d\"],[0.2,\"#de77ae\"],[0.3,\"#f1b6da\"],[0.4,\"#fde0ef\"],[0.5,\"#f7f7f7\"],[0.6,\"#e6f5d0\"],[0.7,\"#b8e186\"],[0.8,\"#7fbc41\"],[0.9,\"#4d9221\"],[1,\"#276419\"]]},\"xaxis\":{\"gridcolor\":\"white\",\"linecolor\":\"white\",\"ticks\":\"\",\"title\":{\"standoff\":15},\"zerolinecolor\":\"white\",\"automargin\":true,\"zerolinewidth\":2},\"yaxis\":{\"gridcolor\":\"white\",\"linecolor\":\"white\",\"ticks\":\"\",\"title\":{\"standoff\":15},\"zerolinecolor\":\"white\",\"automargin\":true,\"zerolinewidth\":2},\"scene\":{\"xaxis\":{\"backgroundcolor\":\"#E5ECF6\",\"gridcolor\":\"white\",\"linecolor\":\"white\",\"showbackground\":true,\"ticks\":\"\",\"zerolinecolor\":\"white\",\"gridwidth\":2},\"yaxis\":{\"backgroundcolor\":\"#E5ECF6\",\"gridcolor\":\"white\",\"linecolor\":\"white\",\"showbackground\":true,\"ticks\":\"\",\"zerolinecolor\":\"white\",\"gridwidth\":2},\"zaxis\":{\"backgroundcolor\":\"#E5ECF6\",\"gridcolor\":\"white\",\"linecolor\":\"white\",\"showbackground\":true,\"ticks\":\"\",\"zerolinecolor\":\"white\",\"gridwidth\":2}},\"shapedefaults\":{\"line\":{\"color\":\"#2a3f5f\"}},\"annotationdefaults\":{\"arrowcolor\":\"#2a3f5f\",\"arrowhead\":0,\"arrowwidth\":1},\"geo\":{\"bgcolor\":\"white\",\"landcolor\":\"#E5ECF6\",\"subunitcolor\":\"white\",\"showland\":true,\"showlakes\":true,\"lakecolor\":\"white\"},\"title\":{\"x\":0.05},\"mapbox\":{\"style\":\"light\"}}},\"xaxis\":{\"anchor\":\"y\",\"domain\":[0.0,1.0],\"title\":{\"text\":\"\\u003cb\\u003eWeeks  of  the  Year  with  Seasons\\u003c\\u002fb\\u003e\",\"standoff\":75},\"range\":[-1,52],\"automargin\":true,\"categoryorder\":\"array\",\"categoryarray\":[\"38\",\"39\",\"40\",\"41\",\"42\",\"43\",\"44\",\"45\",\"46\",\"47\",\"48\",\"49\",\"50\",\"51\",\"52\",\"1\",\"2\",\"3\",\"4\",\"5\",\"6\",\"7\",\"8\",\"9\",\"10\",\"11\",\"12\",\"13\",\"14\",\"15\",\"16\",\"17\",\"18\",\"19\",\"20\",\"21\",\"22\",\"23\",\"24\",\"25\",\"26\",\"27\",\"28\",\"29\",\"30\",\"31\",\"32\",\"33\",\"34\",\"35\",\"36\",\"37\"]},\"yaxis\":{\"anchor\":\"x\",\"domain\":[0.0,1.0],\"title\":{\"text\":\"\\u003cb\\u003eUS  Viewers  (in  Millions)\\u003c\\u002fb\\u003e\"}},\"legend\":{\"title\":{\"text\":\"\\u003cb\\u003eTV  Season  Number\\u003c\\u002fb\\u003e\",\"font\":{\"color\":\"black\"}},\"tracegroupgap\":0},\"title\":{\"text\":\"\\u003cb\\u003eUS  Viewership  by  Week  of  the  Year\\u003c\\u002fb\\u003e\",\"font\":{\"family\":\"simpsonfont\",\"size\":25,\"color\":\"black\"}},\"font\":{\"family\":\"simpsonfont\",\"color\":\"black\"},\"width\":1500,\"height\":500,\"paper_bgcolor\":\"rgb(255,217,15)\",\"plot_bgcolor\":\"rgb(255,217,15)\",\"annotations\":[{\"font\":{\"color\":\"brown\",\"size\":16},\"showarrow\":false,\"text\":\"\\ud83c\\udf42 Fall\",\"x\":\"6\",\"y\":-0.2,\"yref\":\"paper\"},{\"font\":{\"color\":\"darkslateblue\",\"size\":16},\"showarrow\":false,\"text\":\"\\u26c4 Winter\",\"x\":\"19\",\"y\":-0.2,\"yref\":\"paper\"},{\"font\":{\"color\":\"olive\",\"size\":12},\"showarrow\":false,\"text\":\"\\u003ci\\u003eHolidays\\u003c\\u002fi\\u003e\",\"x\":\"13\",\"y\":-0.2,\"yref\":\"paper\"},{\"font\":{\"color\":\"green\",\"size\":16},\"showarrow\":false,\"text\":\"\\ud83c\\udf38 Spring\",\"x\":\"32\",\"y\":-0.2,\"yref\":\"paper\"},{\"font\":{\"color\":\"red\",\"size\":16},\"showarrow\":false,\"text\":\"\\u2600\\ufe0f Summer\",\"x\":\"45\",\"y\":-0.2,\"yref\":\"paper\"},{\"font\":{\"family\":\"Helvetica\",\"size\":8},\"showarrow\":false,\"text\":\"Source: Kaggle | Font: Sharkshock | Analysis: Ariella Zwerling | #TidyTuesday\",\"x\":1.13,\"xref\":\"paper\",\"y\":-0.36,\"yref\":\"paper\"}]},                        {\"responsive\": true}                    ).then(function(){\n",
       "                            \n",
       "var gd = document.getElementById('21b293b9-51a9-4191-a5d8-e24fd9c265bd');\n",
       "var x = new MutationObserver(function (mutations, observer) {{\n",
       "        var display = window.getComputedStyle(gd).display;\n",
       "        if (!display || display === 'none') {{\n",
       "            console.log([gd, 'removed!']);\n",
       "            Plotly.purge(gd);\n",
       "            observer.disconnect();\n",
       "        }}\n",
       "}});\n",
       "\n",
       "// Listen for the removal of the full notebook cells\n",
       "var notebookContainer = gd.closest('#notebook-container');\n",
       "if (notebookContainer) {{\n",
       "    x.observe(notebookContainer, {childList: true});\n",
       "}}\n",
       "\n",
       "// Listen for the clearing of the current output cell\n",
       "var outputEl = gd.closest('.output');\n",
       "if (outputEl) {{\n",
       "    x.observe(outputEl, {childList: true});\n",
       "}}\n",
       "\n",
       "                        })                };                });            </script>        </div>"
      ]
     },
     "metadata": {},
     "output_type": "display_data"
    }
   ],
   "source": [
    "tv_season_week_order = list(range(38, 53)) + list(range(1, 38))\n",
    "\n",
    "fig = px.scatter(simpsons_episodes_filtered_2, \n",
    "                 x=\"week_of_the_year\", \n",
    "                 y=\"us_viewers_in_millions\",\n",
    "                 color=\"season\",\n",
    "                 color_discrete_sequence=[\"red\", \"green\", \"blue\", \"black\", \"magenta\", 'purple', 'brown'],\n",
    "                 labels={\n",
    "                     \"week_of_the_year\": \"<b>Weeks  of  the  Year  with  Seasons</b>\",\n",
    "                     \"us_viewers_in_millions\": \"<b>US  Viewers  (in  Millions)</b>\",\n",
    "                     \"season\": \"<b>TV  Season  Number</b>\"\n",
    "                 },\n",
    "                title=\"<b>US  Viewership  by  Week  of  the  Year</b>\")\n",
    "\n",
    "fig.update_layout(\n",
    "    width=1500,\n",
    "    height = 500,\n",
    "    paper_bgcolor='rgb(255,217,15)',\n",
    "    plot_bgcolor='rgb(255,217,15)',\n",
    "    title=dict(\n",
    "        font=dict(\n",
    "            family='simpsonfont',\n",
    "            size=25,\n",
    "            color='black'\n",
    "    )),\n",
    "    font_family=\"simpsonfont\",\n",
    "    font_color=\"black\",\n",
    "    legend_title_font_color=\"black\",\n",
    "    xaxis=dict(range=[min(tv_season_week_order) - 2, max(tv_season_week_order)],\n",
    "               title_standoff=75),\n",
    "    xaxis_automargin=True,\n",
    ")\n",
    "\n",
    "fig.update_xaxes(categoryorder='array', categoryarray=[str(w) for w in tv_season_week_order])\n",
    "\n",
    "fig.add_annotation(x=\"6\", y=-0.20, text=\"🍂 Fall\", showarrow=False, font=dict(size=16, color=\"brown\"), yref=\"paper\")\n",
    "fig.add_annotation(x=\"19\", y=-0.20, text=\"⛄ Winter\", showarrow=False, font=dict(size=16, color=\"darkslateblue\"), yref=\"paper\")\n",
    "fig.add_annotation(x=\"13\", y=-0.20, text=\"<i>Holidays</i>\", showarrow=False, font=dict(size=12, color=\"olive\"), yref=\"paper\")\n",
    "fig.add_annotation(x=\"32\", y=-0.20, text=\"🌸 Spring\", showarrow=False, font=dict(size=16, color=\"green\"), yref=\"paper\")\n",
    "fig.add_annotation(x=\"45\", y=-0.20, text=\"☀️ Summer\", showarrow=False, font=dict(size=16, color=\"red\"), yref=\"paper\")\n",
    "\n",
    "fig.add_annotation(\n",
    "    text=\"Source: Kaggle | Font: Sharkshock | Analysis: Ariella Zwerling | #TidyTuesday\",\n",
    "    xref=\"paper\", yref=\"paper\",\n",
    "    font_family='Helvetica',\n",
    "    x=1.13, y=-0.36,\n",
    "    showarrow=False,\n",
    "    font=dict(size=8)\n",
    ")\n",
    "\n",
    "fig.show()\n"
   ]
  },
  {
   "cell_type": "code",
   "execution_count": 29,
   "id": "a9ca07ec-4143-418b-8a0c-3aedaf715223",
   "metadata": {},
   "outputs": [],
   "source": [
    "week_views = pd.DataFrame(simpsons_episodes_filtered_2.groupby('week_of_the_year')['us_viewers_in_millions'].mean().reset_index())"
   ]
  },
  {
   "cell_type": "code",
   "execution_count": 30,
   "id": "ae1eb33b-0781-4d24-bbd4-29947a17ebe0",
   "metadata": {},
   "outputs": [],
   "source": [
    "week_views[\"week_of_the_year\"] = pd.Categorical(\n",
    "    week_views[\"week_of_the_year\"], \n",
    "    categories=[str(w) for w in tv_season_week_order], \n",
    "    ordered=True\n",
    ")"
   ]
  },
  {
   "cell_type": "code",
   "execution_count": 31,
   "id": "de6c6099-5466-489a-8c33-0d121bbc4886",
   "metadata": {},
   "outputs": [],
   "source": [
    "week_views = week_views.sort_values('week_of_the_year', ascending = True)"
   ]
  },
  {
   "cell_type": "code",
   "execution_count": 32,
   "id": "cbd8cf6c-e8c6-4f5b-ae2e-a125ca8e8a2e",
   "metadata": {},
   "outputs": [],
   "source": [
    "week_views[\"rolling_avg\"] = week_views[\"us_viewers_in_millions\"].rolling(window=3, center=True).mean()"
   ]
  },
  {
   "cell_type": "code",
   "execution_count": 70,
   "id": "3e0f3f74-799a-4d00-a953-2c86ea95e4f3",
   "metadata": {
    "scrolled": true
   },
   "outputs": [
    {
     "data": {
      "application/vnd.plotly.v1+json": {
       "config": {
        "plotlyServerURL": "https://plot.ly"
       },
       "data": [
        {
         "hovertemplate": "<b>Weeks  of  the  Year  with  Seasons</b>=%{x}<br><b>US  Viewers  (in  Millions)</b>=%{y}<extra></extra>",
         "legendgroup": "",
         "marker": {
          "color": "#636efa",
          "symbol": "circle"
         },
         "mode": "markers",
         "name": "",
         "orientation": "v",
         "showlegend": false,
         "type": "scatter",
         "x": [
          "38",
          "39",
          "40",
          "41",
          "42",
          "43",
          "44",
          "45",
          "46",
          "47",
          "48",
          "49",
          "50",
          "1",
          "2",
          "3",
          "4",
          "6",
          "7",
          "9",
          "10",
          "11",
          "12",
          "13",
          "14",
          "15",
          "16",
          "17",
          "18",
          "19",
          "20"
         ],
         "xaxis": "x",
         "y": [
          7.915,
          6.84,
          6,
          5.32,
          5.725,
          7.425,
          6.292,
          6.285,
          5.638,
          6.386666666666667,
          9.274999999999999,
          6.658333333333334,
          6.073333333333333,
          9.47888888888889,
          6.008333333333333,
          6.5,
          4.524,
          4.266666666666667,
          4.756666666666667,
          4.593999999999999,
          4.22375,
          4.688,
          5.2700000000000005,
          3.115,
          4.3725000000000005,
          4.635,
          3.9800000000000004,
          4.746666666666667,
          4.348571428571429,
          4.2457142857142856,
          4.1225
         ],
         "yaxis": "y"
        },
        {
         "hovertemplate": "week_of_the_year=%{x}<br>rolling_avg=%{y}<extra></extra>",
         "legendgroup": "",
         "line": {
          "color": "green",
          "dash": "solid",
          "width": 2
         },
         "marker": {
          "symbol": "circle"
         },
         "mode": "lines",
         "name": "",
         "orientation": "v",
         "showlegend": false,
         "type": "scatter",
         "x": [
          "38",
          "39",
          "40",
          "41",
          "42",
          "43",
          "44",
          "45",
          "46",
          "47",
          "48",
          "49",
          "50",
          "1",
          "2",
          "3",
          "4",
          "6",
          "7",
          "9",
          "10",
          "11",
          "12",
          "13",
          "14",
          "15",
          "16",
          "17",
          "18",
          "19",
          "20"
         ],
         "xaxis": "x",
         "y": [
          null,
          6.918333333333333,
          6.053333333333334,
          5.6816666666666675,
          6.156666666666666,
          6.480666666666667,
          6.667333333333333,
          6.071666666666666,
          6.103222222222222,
          7.099888888888889,
          7.44,
          7.335555555555556,
          7.40351851851852,
          7.186851851851851,
          7.329074074074074,
          5.677444444444444,
          5.096888888888889,
          4.515777777777778,
          4.539111111111111,
          4.524805555555555,
          4.501916666666666,
          4.72725,
          4.357666666666667,
          4.2525,
          4.0408333333333335,
          4.329166666666667,
          4.45388888888889,
          4.358412698412699,
          4.446984126984127,
          4.238928571428572,
          null
         ],
         "yaxis": "y"
        }
       ],
       "layout": {
        "annotations": [
         {
          "font": {
           "color": "brown",
           "size": 16
          },
          "showarrow": false,
          "text": "🍂 Fall",
          "x": "6",
          "y": -0.2,
          "yref": "paper"
         },
         {
          "font": {
           "color": "darkslateblue",
           "size": 16
          },
          "showarrow": false,
          "text": "⛄ Winter",
          "x": "19",
          "y": -0.2,
          "yref": "paper"
         },
         {
          "font": {
           "color": "olive",
           "size": 12
          },
          "showarrow": false,
          "text": "<i>Holidays</i>",
          "x": "13",
          "y": -0.2,
          "yref": "paper"
         },
         {
          "font": {
           "color": "green",
           "size": 16
          },
          "showarrow": false,
          "text": "🌸 Spring",
          "x": "32",
          "y": -0.2,
          "yref": "paper"
         },
         {
          "font": {
           "color": "red",
           "size": 16
          },
          "showarrow": false,
          "text": "☀️ Summer",
          "x": "45",
          "y": -0.2,
          "yref": "paper"
         },
         {
          "font": {
           "family": "Helvetica",
           "size": 8
          },
          "showarrow": false,
          "text": "Source: Kaggle | Font: Sharkshock | Analysis: Ariella Zwerling | #TidyTuesday",
          "x": 1.05,
          "xref": "paper",
          "y": -0.36,
          "yref": "paper"
         }
        ],
        "font": {
         "color": "black",
         "family": "simpsonfont"
        },
        "height": 500,
        "legend": {
         "tracegroupgap": 0
        },
        "paper_bgcolor": "rgb(255,217,15)",
        "plot_bgcolor": "rgb(255,217,15)",
        "template": {
         "data": {
          "bar": [
           {
            "error_x": {
             "color": "#2a3f5f"
            },
            "error_y": {
             "color": "#2a3f5f"
            },
            "marker": {
             "line": {
              "color": "#E5ECF6",
              "width": 0.5
             },
             "pattern": {
              "fillmode": "overlay",
              "size": 10,
              "solidity": 0.2
             }
            },
            "type": "bar"
           }
          ],
          "barpolar": [
           {
            "marker": {
             "line": {
              "color": "#E5ECF6",
              "width": 0.5
             },
             "pattern": {
              "fillmode": "overlay",
              "size": 10,
              "solidity": 0.2
             }
            },
            "type": "barpolar"
           }
          ],
          "carpet": [
           {
            "aaxis": {
             "endlinecolor": "#2a3f5f",
             "gridcolor": "white",
             "linecolor": "white",
             "minorgridcolor": "white",
             "startlinecolor": "#2a3f5f"
            },
            "baxis": {
             "endlinecolor": "#2a3f5f",
             "gridcolor": "white",
             "linecolor": "white",
             "minorgridcolor": "white",
             "startlinecolor": "#2a3f5f"
            },
            "type": "carpet"
           }
          ],
          "choropleth": [
           {
            "colorbar": {
             "outlinewidth": 0,
             "ticks": ""
            },
            "type": "choropleth"
           }
          ],
          "contour": [
           {
            "colorbar": {
             "outlinewidth": 0,
             "ticks": ""
            },
            "colorscale": [
             [
              0,
              "#0d0887"
             ],
             [
              0.1111111111111111,
              "#46039f"
             ],
             [
              0.2222222222222222,
              "#7201a8"
             ],
             [
              0.3333333333333333,
              "#9c179e"
             ],
             [
              0.4444444444444444,
              "#bd3786"
             ],
             [
              0.5555555555555556,
              "#d8576b"
             ],
             [
              0.6666666666666666,
              "#ed7953"
             ],
             [
              0.7777777777777778,
              "#fb9f3a"
             ],
             [
              0.8888888888888888,
              "#fdca26"
             ],
             [
              1,
              "#f0f921"
             ]
            ],
            "type": "contour"
           }
          ],
          "contourcarpet": [
           {
            "colorbar": {
             "outlinewidth": 0,
             "ticks": ""
            },
            "type": "contourcarpet"
           }
          ],
          "heatmap": [
           {
            "colorbar": {
             "outlinewidth": 0,
             "ticks": ""
            },
            "colorscale": [
             [
              0,
              "#0d0887"
             ],
             [
              0.1111111111111111,
              "#46039f"
             ],
             [
              0.2222222222222222,
              "#7201a8"
             ],
             [
              0.3333333333333333,
              "#9c179e"
             ],
             [
              0.4444444444444444,
              "#bd3786"
             ],
             [
              0.5555555555555556,
              "#d8576b"
             ],
             [
              0.6666666666666666,
              "#ed7953"
             ],
             [
              0.7777777777777778,
              "#fb9f3a"
             ],
             [
              0.8888888888888888,
              "#fdca26"
             ],
             [
              1,
              "#f0f921"
             ]
            ],
            "type": "heatmap"
           }
          ],
          "heatmapgl": [
           {
            "colorbar": {
             "outlinewidth": 0,
             "ticks": ""
            },
            "colorscale": [
             [
              0,
              "#0d0887"
             ],
             [
              0.1111111111111111,
              "#46039f"
             ],
             [
              0.2222222222222222,
              "#7201a8"
             ],
             [
              0.3333333333333333,
              "#9c179e"
             ],
             [
              0.4444444444444444,
              "#bd3786"
             ],
             [
              0.5555555555555556,
              "#d8576b"
             ],
             [
              0.6666666666666666,
              "#ed7953"
             ],
             [
              0.7777777777777778,
              "#fb9f3a"
             ],
             [
              0.8888888888888888,
              "#fdca26"
             ],
             [
              1,
              "#f0f921"
             ]
            ],
            "type": "heatmapgl"
           }
          ],
          "histogram": [
           {
            "marker": {
             "pattern": {
              "fillmode": "overlay",
              "size": 10,
              "solidity": 0.2
             }
            },
            "type": "histogram"
           }
          ],
          "histogram2d": [
           {
            "colorbar": {
             "outlinewidth": 0,
             "ticks": ""
            },
            "colorscale": [
             [
              0,
              "#0d0887"
             ],
             [
              0.1111111111111111,
              "#46039f"
             ],
             [
              0.2222222222222222,
              "#7201a8"
             ],
             [
              0.3333333333333333,
              "#9c179e"
             ],
             [
              0.4444444444444444,
              "#bd3786"
             ],
             [
              0.5555555555555556,
              "#d8576b"
             ],
             [
              0.6666666666666666,
              "#ed7953"
             ],
             [
              0.7777777777777778,
              "#fb9f3a"
             ],
             [
              0.8888888888888888,
              "#fdca26"
             ],
             [
              1,
              "#f0f921"
             ]
            ],
            "type": "histogram2d"
           }
          ],
          "histogram2dcontour": [
           {
            "colorbar": {
             "outlinewidth": 0,
             "ticks": ""
            },
            "colorscale": [
             [
              0,
              "#0d0887"
             ],
             [
              0.1111111111111111,
              "#46039f"
             ],
             [
              0.2222222222222222,
              "#7201a8"
             ],
             [
              0.3333333333333333,
              "#9c179e"
             ],
             [
              0.4444444444444444,
              "#bd3786"
             ],
             [
              0.5555555555555556,
              "#d8576b"
             ],
             [
              0.6666666666666666,
              "#ed7953"
             ],
             [
              0.7777777777777778,
              "#fb9f3a"
             ],
             [
              0.8888888888888888,
              "#fdca26"
             ],
             [
              1,
              "#f0f921"
             ]
            ],
            "type": "histogram2dcontour"
           }
          ],
          "mesh3d": [
           {
            "colorbar": {
             "outlinewidth": 0,
             "ticks": ""
            },
            "type": "mesh3d"
           }
          ],
          "parcoords": [
           {
            "line": {
             "colorbar": {
              "outlinewidth": 0,
              "ticks": ""
             }
            },
            "type": "parcoords"
           }
          ],
          "pie": [
           {
            "automargin": true,
            "type": "pie"
           }
          ],
          "scatter": [
           {
            "fillpattern": {
             "fillmode": "overlay",
             "size": 10,
             "solidity": 0.2
            },
            "type": "scatter"
           }
          ],
          "scatter3d": [
           {
            "line": {
             "colorbar": {
              "outlinewidth": 0,
              "ticks": ""
             }
            },
            "marker": {
             "colorbar": {
              "outlinewidth": 0,
              "ticks": ""
             }
            },
            "type": "scatter3d"
           }
          ],
          "scattercarpet": [
           {
            "marker": {
             "colorbar": {
              "outlinewidth": 0,
              "ticks": ""
             }
            },
            "type": "scattercarpet"
           }
          ],
          "scattergeo": [
           {
            "marker": {
             "colorbar": {
              "outlinewidth": 0,
              "ticks": ""
             }
            },
            "type": "scattergeo"
           }
          ],
          "scattergl": [
           {
            "marker": {
             "colorbar": {
              "outlinewidth": 0,
              "ticks": ""
             }
            },
            "type": "scattergl"
           }
          ],
          "scattermapbox": [
           {
            "marker": {
             "colorbar": {
              "outlinewidth": 0,
              "ticks": ""
             }
            },
            "type": "scattermapbox"
           }
          ],
          "scatterpolar": [
           {
            "marker": {
             "colorbar": {
              "outlinewidth": 0,
              "ticks": ""
             }
            },
            "type": "scatterpolar"
           }
          ],
          "scatterpolargl": [
           {
            "marker": {
             "colorbar": {
              "outlinewidth": 0,
              "ticks": ""
             }
            },
            "type": "scatterpolargl"
           }
          ],
          "scatterternary": [
           {
            "marker": {
             "colorbar": {
              "outlinewidth": 0,
              "ticks": ""
             }
            },
            "type": "scatterternary"
           }
          ],
          "surface": [
           {
            "colorbar": {
             "outlinewidth": 0,
             "ticks": ""
            },
            "colorscale": [
             [
              0,
              "#0d0887"
             ],
             [
              0.1111111111111111,
              "#46039f"
             ],
             [
              0.2222222222222222,
              "#7201a8"
             ],
             [
              0.3333333333333333,
              "#9c179e"
             ],
             [
              0.4444444444444444,
              "#bd3786"
             ],
             [
              0.5555555555555556,
              "#d8576b"
             ],
             [
              0.6666666666666666,
              "#ed7953"
             ],
             [
              0.7777777777777778,
              "#fb9f3a"
             ],
             [
              0.8888888888888888,
              "#fdca26"
             ],
             [
              1,
              "#f0f921"
             ]
            ],
            "type": "surface"
           }
          ],
          "table": [
           {
            "cells": {
             "fill": {
              "color": "#EBF0F8"
             },
             "line": {
              "color": "white"
             }
            },
            "header": {
             "fill": {
              "color": "#C8D4E3"
             },
             "line": {
              "color": "white"
             }
            },
            "type": "table"
           }
          ]
         },
         "layout": {
          "annotationdefaults": {
           "arrowcolor": "#2a3f5f",
           "arrowhead": 0,
           "arrowwidth": 1
          },
          "autotypenumbers": "strict",
          "coloraxis": {
           "colorbar": {
            "outlinewidth": 0,
            "ticks": ""
           }
          },
          "colorscale": {
           "diverging": [
            [
             0,
             "#8e0152"
            ],
            [
             0.1,
             "#c51b7d"
            ],
            [
             0.2,
             "#de77ae"
            ],
            [
             0.3,
             "#f1b6da"
            ],
            [
             0.4,
             "#fde0ef"
            ],
            [
             0.5,
             "#f7f7f7"
            ],
            [
             0.6,
             "#e6f5d0"
            ],
            [
             0.7,
             "#b8e186"
            ],
            [
             0.8,
             "#7fbc41"
            ],
            [
             0.9,
             "#4d9221"
            ],
            [
             1,
             "#276419"
            ]
           ],
           "sequential": [
            [
             0,
             "#0d0887"
            ],
            [
             0.1111111111111111,
             "#46039f"
            ],
            [
             0.2222222222222222,
             "#7201a8"
            ],
            [
             0.3333333333333333,
             "#9c179e"
            ],
            [
             0.4444444444444444,
             "#bd3786"
            ],
            [
             0.5555555555555556,
             "#d8576b"
            ],
            [
             0.6666666666666666,
             "#ed7953"
            ],
            [
             0.7777777777777778,
             "#fb9f3a"
            ],
            [
             0.8888888888888888,
             "#fdca26"
            ],
            [
             1,
             "#f0f921"
            ]
           ],
           "sequentialminus": [
            [
             0,
             "#0d0887"
            ],
            [
             0.1111111111111111,
             "#46039f"
            ],
            [
             0.2222222222222222,
             "#7201a8"
            ],
            [
             0.3333333333333333,
             "#9c179e"
            ],
            [
             0.4444444444444444,
             "#bd3786"
            ],
            [
             0.5555555555555556,
             "#d8576b"
            ],
            [
             0.6666666666666666,
             "#ed7953"
            ],
            [
             0.7777777777777778,
             "#fb9f3a"
            ],
            [
             0.8888888888888888,
             "#fdca26"
            ],
            [
             1,
             "#f0f921"
            ]
           ]
          },
          "colorway": [
           "#636efa",
           "#EF553B",
           "#00cc96",
           "#ab63fa",
           "#FFA15A",
           "#19d3f3",
           "#FF6692",
           "#B6E880",
           "#FF97FF",
           "#FECB52"
          ],
          "font": {
           "color": "#2a3f5f"
          },
          "geo": {
           "bgcolor": "white",
           "lakecolor": "white",
           "landcolor": "#E5ECF6",
           "showlakes": true,
           "showland": true,
           "subunitcolor": "white"
          },
          "hoverlabel": {
           "align": "left"
          },
          "hovermode": "closest",
          "mapbox": {
           "style": "light"
          },
          "paper_bgcolor": "white",
          "plot_bgcolor": "#E5ECF6",
          "polar": {
           "angularaxis": {
            "gridcolor": "white",
            "linecolor": "white",
            "ticks": ""
           },
           "bgcolor": "#E5ECF6",
           "radialaxis": {
            "gridcolor": "white",
            "linecolor": "white",
            "ticks": ""
           }
          },
          "scene": {
           "xaxis": {
            "backgroundcolor": "#E5ECF6",
            "gridcolor": "white",
            "gridwidth": 2,
            "linecolor": "white",
            "showbackground": true,
            "ticks": "",
            "zerolinecolor": "white"
           },
           "yaxis": {
            "backgroundcolor": "#E5ECF6",
            "gridcolor": "white",
            "gridwidth": 2,
            "linecolor": "white",
            "showbackground": true,
            "ticks": "",
            "zerolinecolor": "white"
           },
           "zaxis": {
            "backgroundcolor": "#E5ECF6",
            "gridcolor": "white",
            "gridwidth": 2,
            "linecolor": "white",
            "showbackground": true,
            "ticks": "",
            "zerolinecolor": "white"
           }
          },
          "shapedefaults": {
           "line": {
            "color": "#2a3f5f"
           }
          },
          "ternary": {
           "aaxis": {
            "gridcolor": "white",
            "linecolor": "white",
            "ticks": ""
           },
           "baxis": {
            "gridcolor": "white",
            "linecolor": "white",
            "ticks": ""
           },
           "bgcolor": "#E5ECF6",
           "caxis": {
            "gridcolor": "white",
            "linecolor": "white",
            "ticks": ""
           }
          },
          "title": {
           "x": 0.05
          },
          "xaxis": {
           "automargin": true,
           "gridcolor": "white",
           "linecolor": "white",
           "ticks": "",
           "title": {
            "standoff": 15
           },
           "zerolinecolor": "white",
           "zerolinewidth": 2
          },
          "yaxis": {
           "automargin": true,
           "gridcolor": "white",
           "linecolor": "white",
           "ticks": "",
           "title": {
            "standoff": 15
           },
           "zerolinecolor": "white",
           "zerolinewidth": 2
          }
         }
        },
        "title": {
         "font": {
          "color": "black",
          "family": "simpsonfont",
          "size": 25
         },
         "text": "<b>Average  US  Viewership  by  Week  of  the  Year</b>"
        },
        "width": 1500,
        "xaxis": {
         "anchor": "y",
         "automargin": true,
         "categoryarray": [
          "38",
          "39",
          "40",
          "41",
          "42",
          "43",
          "44",
          "45",
          "46",
          "47",
          "48",
          "49",
          "50",
          "51",
          "52",
          "1",
          "2",
          "3",
          "4",
          "5",
          "6",
          "7",
          "8",
          "9",
          "10",
          "11",
          "12",
          "13",
          "14",
          "15",
          "16",
          "17",
          "18",
          "19",
          "20",
          "21",
          "22",
          "23",
          "24",
          "25",
          "26",
          "27",
          "28",
          "29",
          "30",
          "31",
          "32",
          "33",
          "34",
          "35",
          "36",
          "37"
         ],
         "categoryorder": "array",
         "domain": [
          0,
          1
         ],
         "range": [
          -1,
          52
         ],
         "title": {
          "standoff": 70,
          "text": "<b>Weeks  of  the  Year  with  Seasons</b>"
         },
         "type": "category"
        },
        "yaxis": {
         "anchor": "x",
         "autorange": true,
         "domain": [
          0,
          1
         ],
         "range": [
          2.6575876963920444,
          9.936301192496845
         ],
         "title": {
          "text": "<b>US  Viewers  (in  Millions)</b>"
         },
         "type": "linear"
        }
       }
      },
      "image/png": "[encoded data removed]",
      "text/html": [
       "<div>                            <div id=\"96b27180-0700-4be4-a10a-8ae77dd78b53\" class=\"plotly-graph-div\" style=\"height:500px; width:1500px;\"></div>            <script type=\"text/javascript\">                require([\"plotly\"], function(Plotly) {                    window.PLOTLYENV=window.PLOTLYENV || {};                                    if (document.getElementById(\"96b27180-0700-4be4-a10a-8ae77dd78b53\")) {                    Plotly.newPlot(                        \"96b27180-0700-4be4-a10a-8ae77dd78b53\",                        [{\"hovertemplate\":\"\\u003cb\\u003eWeeks  of  the  Year  with  Seasons\\u003c\\u002fb\\u003e=%{x}\\u003cbr\\u003e\\u003cb\\u003eUS  Viewers  (in  Millions)\\u003c\\u002fb\\u003e=%{y}\\u003cextra\\u003e\\u003c\\u002fextra\\u003e\",\"legendgroup\":\"\",\"marker\":{\"color\":\"#636efa\",\"symbol\":\"circle\"},\"mode\":\"markers\",\"name\":\"\",\"orientation\":\"v\",\"showlegend\":false,\"x\":[\"38\",\"39\",\"40\",\"41\",\"42\",\"43\",\"44\",\"45\",\"46\",\"47\",\"48\",\"49\",\"50\",\"1\",\"2\",\"3\",\"4\",\"6\",\"7\",\"9\",\"10\",\"11\",\"12\",\"13\",\"14\",\"15\",\"16\",\"17\",\"18\",\"19\",\"20\"],\"xaxis\":\"x\",\"y\":[7.915,6.84,6.0,5.32,5.725,7.425,6.292,6.285,5.638,6.386666666666667,9.274999999999999,6.658333333333334,6.073333333333333,9.47888888888889,6.008333333333333,6.5,4.524,4.266666666666667,4.756666666666667,4.593999999999999,4.22375,4.688,5.2700000000000005,3.115,4.3725000000000005,4.635,3.9800000000000004,4.746666666666667,4.348571428571429,4.2457142857142856,4.1225],\"yaxis\":\"y\",\"type\":\"scatter\"},{\"hovertemplate\":\"week_of_the_year=%{x}\\u003cbr\\u003erolling_avg=%{y}\\u003cextra\\u003e\\u003c\\u002fextra\\u003e\",\"legendgroup\":\"\",\"line\":{\"color\":\"green\",\"dash\":\"solid\",\"width\":2},\"marker\":{\"symbol\":\"circle\"},\"mode\":\"lines\",\"name\":\"\",\"orientation\":\"v\",\"showlegend\":false,\"x\":[\"38\",\"39\",\"40\",\"41\",\"42\",\"43\",\"44\",\"45\",\"46\",\"47\",\"48\",\"49\",\"50\",\"1\",\"2\",\"3\",\"4\",\"6\",\"7\",\"9\",\"10\",\"11\",\"12\",\"13\",\"14\",\"15\",\"16\",\"17\",\"18\",\"19\",\"20\"],\"xaxis\":\"x\",\"y\":[null,6.918333333333333,6.053333333333334,5.6816666666666675,6.156666666666666,6.480666666666667,6.667333333333333,6.071666666666666,6.103222222222222,7.099888888888889,7.44,7.335555555555556,7.40351851851852,7.186851851851851,7.329074074074074,5.677444444444444,5.096888888888889,4.515777777777778,4.539111111111111,4.524805555555555,4.501916666666666,4.72725,4.357666666666667,4.2525,4.0408333333333335,4.329166666666667,4.45388888888889,4.358412698412699,4.446984126984127,4.238928571428572,null],\"yaxis\":\"y\",\"type\":\"scatter\"}],                        {\"template\":{\"data\":{\"histogram2dcontour\":[{\"type\":\"histogram2dcontour\",\"colorbar\":{\"outlinewidth\":0,\"ticks\":\"\"},\"colorscale\":[[0.0,\"#0d0887\"],[0.1111111111111111,\"#46039f\"],[0.2222222222222222,\"#7201a8\"],[0.3333333333333333,\"#9c179e\"],[0.4444444444444444,\"#bd3786\"],[0.5555555555555556,\"#d8576b\"],[0.6666666666666666,\"#ed7953\"],[0.7777777777777778,\"#fb9f3a\"],[0.8888888888888888,\"#fdca26\"],[1.0,\"#f0f921\"]]}],\"choropleth\":[{\"type\":\"choropleth\",\"colorbar\":{\"outlinewidth\":0,\"ticks\":\"\"}}],\"histogram2d\":[{\"type\":\"histogram2d\",\"colorbar\":{\"outlinewidth\":0,\"ticks\":\"\"},\"colorscale\":[[0.0,\"#0d0887\"],[0.1111111111111111,\"#46039f\"],[0.2222222222222222,\"#7201a8\"],[0.3333333333333333,\"#9c179e\"],[0.4444444444444444,\"#bd3786\"],[0.5555555555555556,\"#d8576b\"],[0.6666666666666666,\"#ed7953\"],[0.7777777777777778,\"#fb9f3a\"],[0.8888888888888888,\"#fdca26\"],[1.0,\"#f0f921\"]]}],\"heatmap\":[{\"type\":\"heatmap\",\"colorbar\":{\"outlinewidth\":0,\"ticks\":\"\"},\"colorscale\":[[0.0,\"#0d0887\"],[0.1111111111111111,\"#46039f\"],[0.2222222222222222,\"#7201a8\"],[0.3333333333333333,\"#9c179e\"],[0.4444444444444444,\"#bd3786\"],[0.5555555555555556,\"#d8576b\"],[0.6666666666666666,\"#ed7953\"],[0.7777777777777778,\"#fb9f3a\"],[0.8888888888888888,\"#fdca26\"],[1.0,\"#f0f921\"]]}],\"heatmapgl\":[{\"type\":\"heatmapgl\",\"colorbar\":{\"outlinewidth\":0,\"ticks\":\"\"},\"colorscale\":[[0.0,\"#0d0887\"],[0.1111111111111111,\"#46039f\"],[0.2222222222222222,\"#7201a8\"],[0.3333333333333333,\"#9c179e\"],[0.4444444444444444,\"#bd3786\"],[0.5555555555555556,\"#d8576b\"],[0.6666666666666666,\"#ed7953\"],[0.7777777777777778,\"#fb9f3a\"],[0.8888888888888888,\"#fdca26\"],[1.0,\"#f0f921\"]]}],\"contourcarpet\":[{\"type\":\"contourcarpet\",\"colorbar\":{\"outlinewidth\":0,\"ticks\":\"\"}}],\"contour\":[{\"type\":\"contour\",\"colorbar\":{\"outlinewidth\":0,\"ticks\":\"\"},\"colorscale\":[[0.0,\"#0d0887\"],[0.1111111111111111,\"#46039f\"],[0.2222222222222222,\"#7201a8\"],[0.3333333333333333,\"#9c179e\"],[0.4444444444444444,\"#bd3786\"],[0.5555555555555556,\"#d8576b\"],[0.6666666666666666,\"#ed7953\"],[0.7777777777777778,\"#fb9f3a\"],[0.8888888888888888,\"#fdca26\"],[1.0,\"#f0f921\"]]}],\"surface\":[{\"type\":\"surface\",\"colorbar\":{\"outlinewidth\":0,\"ticks\":\"\"},\"colorscale\":[[0.0,\"#0d0887\"],[0.1111111111111111,\"#46039f\"],[0.2222222222222222,\"#7201a8\"],[0.3333333333333333,\"#9c179e\"],[0.4444444444444444,\"#bd3786\"],[0.5555555555555556,\"#d8576b\"],[0.6666666666666666,\"#ed7953\"],[0.7777777777777778,\"#fb9f3a\"],[0.8888888888888888,\"#fdca26\"],[1.0,\"#f0f921\"]]}],\"mesh3d\":[{\"type\":\"mesh3d\",\"colorbar\":{\"outlinewidth\":0,\"ticks\":\"\"}}],\"scatter\":[{\"fillpattern\":{\"fillmode\":\"overlay\",\"size\":10,\"solidity\":0.2},\"type\":\"scatter\"}],\"parcoords\":[{\"type\":\"parcoords\",\"line\":{\"colorbar\":{\"outlinewidth\":0,\"ticks\":\"\"}}}],\"scatterpolargl\":[{\"type\":\"scatterpolargl\",\"marker\":{\"colorbar\":{\"outlinewidth\":0,\"ticks\":\"\"}}}],\"bar\":[{\"error_x\":{\"color\":\"#2a3f5f\"},\"error_y\":{\"color\":\"#2a3f5f\"},\"marker\":{\"line\":{\"color\":\"#E5ECF6\",\"width\":0.5},\"pattern\":{\"fillmode\":\"overlay\",\"size\":10,\"solidity\":0.2}},\"type\":\"bar\"}],\"scattergeo\":[{\"type\":\"scattergeo\",\"marker\":{\"colorbar\":{\"outlinewidth\":0,\"ticks\":\"\"}}}],\"scatterpolar\":[{\"type\":\"scatterpolar\",\"marker\":{\"colorbar\":{\"outlinewidth\":0,\"ticks\":\"\"}}}],\"histogram\":[{\"marker\":{\"pattern\":{\"fillmode\":\"overlay\",\"size\":10,\"solidity\":0.2}},\"type\":\"histogram\"}],\"scattergl\":[{\"type\":\"scattergl\",\"marker\":{\"colorbar\":{\"outlinewidth\":0,\"ticks\":\"\"}}}],\"scatter3d\":[{\"type\":\"scatter3d\",\"line\":{\"colorbar\":{\"outlinewidth\":0,\"ticks\":\"\"}},\"marker\":{\"colorbar\":{\"outlinewidth\":0,\"ticks\":\"\"}}}],\"scattermapbox\":[{\"type\":\"scattermapbox\",\"marker\":{\"colorbar\":{\"outlinewidth\":0,\"ticks\":\"\"}}}],\"scatterternary\":[{\"type\":\"scatterternary\",\"marker\":{\"colorbar\":{\"outlinewidth\":0,\"ticks\":\"\"}}}],\"scattercarpet\":[{\"type\":\"scattercarpet\",\"marker\":{\"colorbar\":{\"outlinewidth\":0,\"ticks\":\"\"}}}],\"carpet\":[{\"aaxis\":{\"endlinecolor\":\"#2a3f5f\",\"gridcolor\":\"white\",\"linecolor\":\"white\",\"minorgridcolor\":\"white\",\"startlinecolor\":\"#2a3f5f\"},\"baxis\":{\"endlinecolor\":\"#2a3f5f\",\"gridcolor\":\"white\",\"linecolor\":\"white\",\"minorgridcolor\":\"white\",\"startlinecolor\":\"#2a3f5f\"},\"type\":\"carpet\"}],\"table\":[{\"cells\":{\"fill\":{\"color\":\"#EBF0F8\"},\"line\":{\"color\":\"white\"}},\"header\":{\"fill\":{\"color\":\"#C8D4E3\"},\"line\":{\"color\":\"white\"}},\"type\":\"table\"}],\"barpolar\":[{\"marker\":{\"line\":{\"color\":\"#E5ECF6\",\"width\":0.5},\"pattern\":{\"fillmode\":\"overlay\",\"size\":10,\"solidity\":0.2}},\"type\":\"barpolar\"}],\"pie\":[{\"automargin\":true,\"type\":\"pie\"}]},\"layout\":{\"autotypenumbers\":\"strict\",\"colorway\":[\"#636efa\",\"#EF553B\",\"#00cc96\",\"#ab63fa\",\"#FFA15A\",\"#19d3f3\",\"#FF6692\",\"#B6E880\",\"#FF97FF\",\"#FECB52\"],\"font\":{\"color\":\"#2a3f5f\"},\"hovermode\":\"closest\",\"hoverlabel\":{\"align\":\"left\"},\"paper_bgcolor\":\"white\",\"plot_bgcolor\":\"#E5ECF6\",\"polar\":{\"bgcolor\":\"#E5ECF6\",\"angularaxis\":{\"gridcolor\":\"white\",\"linecolor\":\"white\",\"ticks\":\"\"},\"radialaxis\":{\"gridcolor\":\"white\",\"linecolor\":\"white\",\"ticks\":\"\"}},\"ternary\":{\"bgcolor\":\"#E5ECF6\",\"aaxis\":{\"gridcolor\":\"white\",\"linecolor\":\"white\",\"ticks\":\"\"},\"baxis\":{\"gridcolor\":\"white\",\"linecolor\":\"white\",\"ticks\":\"\"},\"caxis\":{\"gridcolor\":\"white\",\"linecolor\":\"white\",\"ticks\":\"\"}},\"coloraxis\":{\"colorbar\":{\"outlinewidth\":0,\"ticks\":\"\"}},\"colorscale\":{\"sequential\":[[0.0,\"#0d0887\"],[0.1111111111111111,\"#46039f\"],[0.2222222222222222,\"#7201a8\"],[0.3333333333333333,\"#9c179e\"],[0.4444444444444444,\"#bd3786\"],[0.5555555555555556,\"#d8576b\"],[0.6666666666666666,\"#ed7953\"],[0.7777777777777778,\"#fb9f3a\"],[0.8888888888888888,\"#fdca26\"],[1.0,\"#f0f921\"]],\"sequentialminus\":[[0.0,\"#0d0887\"],[0.1111111111111111,\"#46039f\"],[0.2222222222222222,\"#7201a8\"],[0.3333333333333333,\"#9c179e\"],[0.4444444444444444,\"#bd3786\"],[0.5555555555555556,\"#d8576b\"],[0.6666666666666666,\"#ed7953\"],[0.7777777777777778,\"#fb9f3a\"],[0.8888888888888888,\"#fdca26\"],[1.0,\"#f0f921\"]],\"diverging\":[[0,\"#8e0152\"],[0.1,\"#c51b7d\"],[0.2,\"#de77ae\"],[0.3,\"#f1b6da\"],[0.4,\"#fde0ef\"],[0.5,\"#f7f7f7\"],[0.6,\"#e6f5d0\"],[0.7,\"#b8e186\"],[0.8,\"#7fbc41\"],[0.9,\"#4d9221\"],[1,\"#276419\"]]},\"xaxis\":{\"gridcolor\":\"white\",\"linecolor\":\"white\",\"ticks\":\"\",\"title\":{\"standoff\":15},\"zerolinecolor\":\"white\",\"automargin\":true,\"zerolinewidth\":2},\"yaxis\":{\"gridcolor\":\"white\",\"linecolor\":\"white\",\"ticks\":\"\",\"title\":{\"standoff\":15},\"zerolinecolor\":\"white\",\"automargin\":true,\"zerolinewidth\":2},\"scene\":{\"xaxis\":{\"backgroundcolor\":\"#E5ECF6\",\"gridcolor\":\"white\",\"linecolor\":\"white\",\"showbackground\":true,\"ticks\":\"\",\"zerolinecolor\":\"white\",\"gridwidth\":2},\"yaxis\":{\"backgroundcolor\":\"#E5ECF6\",\"gridcolor\":\"white\",\"linecolor\":\"white\",\"showbackground\":true,\"ticks\":\"\",\"zerolinecolor\":\"white\",\"gridwidth\":2},\"zaxis\":{\"backgroundcolor\":\"#E5ECF6\",\"gridcolor\":\"white\",\"linecolor\":\"white\",\"showbackground\":true,\"ticks\":\"\",\"zerolinecolor\":\"white\",\"gridwidth\":2}},\"shapedefaults\":{\"line\":{\"color\":\"#2a3f5f\"}},\"annotationdefaults\":{\"arrowcolor\":\"#2a3f5f\",\"arrowhead\":0,\"arrowwidth\":1},\"geo\":{\"bgcolor\":\"white\",\"landcolor\":\"#E5ECF6\",\"subunitcolor\":\"white\",\"showland\":true,\"showlakes\":true,\"lakecolor\":\"white\"},\"title\":{\"x\":0.05},\"mapbox\":{\"style\":\"light\"}}},\"xaxis\":{\"anchor\":\"y\",\"domain\":[0.0,1.0],\"title\":{\"text\":\"\\u003cb\\u003eWeeks  of  the  Year  with  Seasons\\u003c\\u002fb\\u003e\",\"standoff\":70},\"range\":[-1,52],\"automargin\":true,\"categoryorder\":\"array\",\"categoryarray\":[\"38\",\"39\",\"40\",\"41\",\"42\",\"43\",\"44\",\"45\",\"46\",\"47\",\"48\",\"49\",\"50\",\"51\",\"52\",\"1\",\"2\",\"3\",\"4\",\"5\",\"6\",\"7\",\"8\",\"9\",\"10\",\"11\",\"12\",\"13\",\"14\",\"15\",\"16\",\"17\",\"18\",\"19\",\"20\",\"21\",\"22\",\"23\",\"24\",\"25\",\"26\",\"27\",\"28\",\"29\",\"30\",\"31\",\"32\",\"33\",\"34\",\"35\",\"36\",\"37\"]},\"yaxis\":{\"anchor\":\"x\",\"domain\":[0.0,1.0],\"title\":{\"text\":\"\\u003cb\\u003eUS  Viewers  (in  Millions)\\u003c\\u002fb\\u003e\"}},\"legend\":{\"tracegroupgap\":0},\"title\":{\"text\":\"\\u003cb\\u003eAverage  US  Viewership  by  Week  of  the  Year\\u003c\\u002fb\\u003e\",\"font\":{\"family\":\"simpsonfont\",\"size\":25,\"color\":\"black\"}},\"font\":{\"family\":\"simpsonfont\",\"color\":\"black\"},\"width\":1500,\"height\":500,\"paper_bgcolor\":\"rgb(255,217,15)\",\"plot_bgcolor\":\"rgb(255,217,15)\",\"annotations\":[{\"font\":{\"color\":\"brown\",\"size\":16},\"showarrow\":false,\"text\":\"\\ud83c\\udf42 Fall\",\"x\":\"6\",\"y\":-0.2,\"yref\":\"paper\"},{\"font\":{\"color\":\"darkslateblue\",\"size\":16},\"showarrow\":false,\"text\":\"\\u26c4 Winter\",\"x\":\"19\",\"y\":-0.2,\"yref\":\"paper\"},{\"font\":{\"color\":\"olive\",\"size\":12},\"showarrow\":false,\"text\":\"\\u003ci\\u003eHolidays\\u003c\\u002fi\\u003e\",\"x\":\"13\",\"y\":-0.2,\"yref\":\"paper\"},{\"font\":{\"color\":\"green\",\"size\":16},\"showarrow\":false,\"text\":\"\\ud83c\\udf38 Spring\",\"x\":\"32\",\"y\":-0.2,\"yref\":\"paper\"},{\"font\":{\"color\":\"red\",\"size\":16},\"showarrow\":false,\"text\":\"\\u2600\\ufe0f Summer\",\"x\":\"45\",\"y\":-0.2,\"yref\":\"paper\"},{\"font\":{\"family\":\"Helvetica\",\"size\":8},\"showarrow\":false,\"text\":\"Source: Kaggle | Font: Sharkshock | Analysis: Ariella Zwerling | #TidyTuesday\",\"x\":1.05,\"xref\":\"paper\",\"y\":-0.36,\"yref\":\"paper\"}]},                        {\"responsive\": true}                    ).then(function(){\n",
       "                            \n",
       "var gd = document.getElementById('96b27180-0700-4be4-a10a-8ae77dd78b53');\n",
       "var x = new MutationObserver(function (mutations, observer) {{\n",
       "        var display = window.getComputedStyle(gd).display;\n",
       "        if (!display || display === 'none') {{\n",
       "            console.log([gd, 'removed!']);\n",
       "            Plotly.purge(gd);\n",
       "            observer.disconnect();\n",
       "        }}\n",
       "}});\n",
       "\n",
       "// Listen for the removal of the full notebook cells\n",
       "var notebookContainer = gd.closest('#notebook-container');\n",
       "if (notebookContainer) {{\n",
       "    x.observe(notebookContainer, {childList: true});\n",
       "}}\n",
       "\n",
       "// Listen for the clearing of the current output cell\n",
       "var outputEl = gd.closest('.output');\n",
       "if (outputEl) {{\n",
       "    x.observe(outputEl, {childList: true});\n",
       "}}\n",
       "\n",
       "                        })                };                });            </script>        </div>"
      ]
     },
     "metadata": {},
     "output_type": "display_data"
    }
   ],
   "source": [
    "fig = px.scatter(week_views, \n",
    "                 x=\"week_of_the_year\", \n",
    "                 y=\"us_viewers_in_millions\",\n",
    "                 # color=\"season\",\n",
    "                 # color_continuous_scale='jet',\n",
    "                 labels={\n",
    "                     \"week_of_the_year\": \"<b>Weeks  of  the  Year  with  Seasons</b>\",\n",
    "                     \"us_viewers_in_millions\": \"<b>US  Viewers  (in  Millions)</b>\",\n",
    "                 },\n",
    "                title=\"<b>Average  US  Viewership  by  Week  of  the  Year</b>\")\n",
    "\n",
    "fig.update_layout(\n",
    "    width=1500,\n",
    "    height = 500,\n",
    "    paper_bgcolor='rgb(255,217,15)',\n",
    "    plot_bgcolor='rgb(255,217,15)',\n",
    "    title=dict(\n",
    "        font=dict(\n",
    "            family='simpsonfont',\n",
    "            size=25,\n",
    "            color='black'\n",
    "    )),\n",
    "    font_family=\"simpsonfont\",\n",
    "    font_color=\"black\",\n",
    "    # legend_title_font_color=\"black\",\n",
    "    xaxis=dict(range=[min(tv_season_week_order) - 2, max(tv_season_week_order)],\n",
    "               # side=\"bottom\", \n",
    "               title_standoff=70),\n",
    "    xaxis_automargin=True,\n",
    ")\n",
    "\n",
    "fig.update_xaxes(categoryorder='array', categoryarray=[str(w) for w in tv_season_week_order])\n",
    "\n",
    "rolling_trace = px.line(week_views, x=\"week_of_the_year\", y=\"rolling_avg\").data[0]\n",
    "rolling_trace.line.color = \"green\"\n",
    "rolling_trace.line.width = 2\n",
    "\n",
    "fig.add_trace(rolling_trace)\n",
    "\n",
    "fig.add_annotation(x=\"6\", y=-0.20, text=\"🍂 Fall\", showarrow=False, font=dict(size=16, color=\"brown\"), yref=\"paper\")\n",
    "fig.add_annotation(x=\"19\", y=-0.20, text=\"⛄ Winter\", showarrow=False, font=dict(size=16, color=\"darkslateblue\"), yref=\"paper\")\n",
    "fig.add_annotation(x=\"13\", y=-0.20, text=\"<i>Holidays</i>\", showarrow=False, font=dict(size=12, color=\"olive\"), yref=\"paper\")\n",
    "fig.add_annotation(x=\"32\", y=-0.20, text=\"🌸 Spring\", showarrow=False, font=dict(size=16, color=\"green\"), yref=\"paper\")\n",
    "fig.add_annotation(x=\"45\", y=-0.20, text=\"☀️ Summer\", showarrow=False, font=dict(size=16, color=\"red\"), yref=\"paper\")\n",
    "\n",
    "fig.add_annotation(\n",
    "    text=\"Source: Kaggle | Font: Sharkshock | Analysis: Ariella Zwerling | #TidyTuesday\",\n",
    "    xref=\"paper\", yref=\"paper\",\n",
    "    font_family='Helvetica',\n",
    "    x=1.05, y=-0.36,\n",
    "    showarrow=False,\n",
    "    font=dict(size=8)\n",
    ")\n",
    "\n",
    "fig.show()"
   ]
  }
 ],
 "metadata": {
  "kernelspec": {
   "display_name": "Python 3 (ipykernel)",
   "language": "python",
   "name": "python3"
  },
  "language_info": {
   "codemirror_mode": {
    "name": "ipython",
    "version": 3
   },
   "file_extension": ".py",
   "mimetype": "text/x-python",
   "name": "python",
   "nbconvert_exporter": "python",
   "pygments_lexer": "ipython3",
   "version": "3.9.5"
  }
 },
 "nbformat": 4,
 "nbformat_minor": 5
}
